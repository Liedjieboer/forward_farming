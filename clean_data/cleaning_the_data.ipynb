{
 "cells": [
  {
   "cell_type": "code",
   "execution_count": 50,
   "id": "c000d172",
   "metadata": {},
   "outputs": [],
   "source": [
    "#basics\n",
    "import math\n",
    "import pandas as pd\n",
    "import numpy as np\n",
    "import matplotlib.pyplot as plt\n",
    "import seaborn as sns\n",
    "import random as random\n",
    "from scipy import stats"
   ]
  },
  {
   "cell_type": "code",
   "execution_count": 51,
   "id": "857e499f",
   "metadata": {},
   "outputs": [
    {
     "data": {
      "text/html": [
       "<div>\n",
       "<style scoped>\n",
       "    .dataframe tbody tr th:only-of-type {\n",
       "        vertical-align: middle;\n",
       "    }\n",
       "\n",
       "    .dataframe tbody tr th {\n",
       "        vertical-align: top;\n",
       "    }\n",
       "\n",
       "    .dataframe thead th {\n",
       "        text-align: right;\n",
       "    }\n",
       "</style>\n",
       "<table border=\"1\" class=\"dataframe\">\n",
       "  <thead>\n",
       "    <tr style=\"text-align: right;\">\n",
       "      <th></th>\n",
       "      <th>yyyy</th>\n",
       "      <th>mm</th>\n",
       "      <th>tmax(degC)</th>\n",
       "      <th>tmin(degC)</th>\n",
       "      <th>af(days)</th>\n",
       "      <th>rain(mm)</th>\n",
       "      <th>sun(hours)</th>\n",
       "    </tr>\n",
       "  </thead>\n",
       "  <tbody>\n",
       "    <tr>\n",
       "      <th>1673</th>\n",
       "      <td>2022</td>\n",
       "      <td>6</td>\n",
       "      <td>20.4</td>\n",
       "      <td>10.8</td>\n",
       "      <td>0</td>\n",
       "      <td>55.0</td>\n",
       "      <td>31.7</td>\n",
       "    </tr>\n",
       "    <tr>\n",
       "      <th>1674</th>\n",
       "      <td>2022</td>\n",
       "      <td>7</td>\n",
       "      <td>23.3</td>\n",
       "      <td>14.5</td>\n",
       "      <td>0</td>\n",
       "      <td>23.0</td>\n",
       "      <td>190.6</td>\n",
       "    </tr>\n",
       "    <tr>\n",
       "      <th>1675</th>\n",
       "      <td>2022</td>\n",
       "      <td>8</td>\n",
       "      <td>23.9</td>\n",
       "      <td>13.6</td>\n",
       "      <td>0</td>\n",
       "      <td>56.4</td>\n",
       "      <td>233.4</td>\n",
       "    </tr>\n",
       "    <tr>\n",
       "      <th>1676</th>\n",
       "      <td>2022</td>\n",
       "      <td>9</td>\n",
       "      <td>18.4</td>\n",
       "      <td>11.1</td>\n",
       "      <td>0</td>\n",
       "      <td>50.0</td>\n",
       "      <td>122.2</td>\n",
       "    </tr>\n",
       "    <tr>\n",
       "      <th>1677</th>\n",
       "      <td>2022</td>\n",
       "      <td>10</td>\n",
       "      <td>15.6</td>\n",
       "      <td>9.6</td>\n",
       "      <td>0</td>\n",
       "      <td>124.0</td>\n",
       "      <td>109.9</td>\n",
       "    </tr>\n",
       "  </tbody>\n",
       "</table>\n",
       "</div>"
      ],
      "text/plain": [
       "      yyyy  mm tmax(degC) tmin(degC) af(days)  rain(mm) sun(hours)\n",
       "1673  2022   6       20.4       10.8        0      55.0       31.7\n",
       "1674  2022   7       23.3       14.5        0      23.0      190.6\n",
       "1675  2022   8       23.9       13.6        0      56.4      233.4\n",
       "1676  2022   9       18.4       11.1        0      50.0      122.2\n",
       "1677  2022  10       15.6        9.6        0     124.0      109.9"
      ]
     },
     "execution_count": 51,
     "metadata": {},
     "output_type": "execute_result"
    }
   ],
   "source": [
    "data = pd.read_csv('sheff_data.csv')\n",
    "data.tail()"
   ]
  },
  {
   "cell_type": "code",
   "execution_count": 55,
   "id": "f62c0867",
   "metadata": {},
   "outputs": [],
   "source": [
    "new_data = data[(data['tmax(degC)'] != '---') & (data['tmin(degC)'] != '---')]"
   ]
  },
  {
   "cell_type": "code",
   "execution_count": 59,
   "id": "7912977a",
   "metadata": {},
   "outputs": [
    {
     "name": "stderr",
     "output_type": "stream",
     "text": [
      "/tmp/ipykernel_12899/2048143392.py:1: SettingWithCopyWarning: \n",
      "A value is trying to be set on a copy of a slice from a DataFrame.\n",
      "Try using .loc[row_indexer,col_indexer] = value instead\n",
      "\n",
      "See the caveats in the documentation: https://pandas.pydata.org/pandas-docs/stable/user_guide/indexing.html#returning-a-view-versus-a-copy\n",
      "  new_data['tmax(degC)'] = new_data['tmax(degC)'].astype(float)\n",
      "/tmp/ipykernel_12899/2048143392.py:2: SettingWithCopyWarning: \n",
      "A value is trying to be set on a copy of a slice from a DataFrame.\n",
      "Try using .loc[row_indexer,col_indexer] = value instead\n",
      "\n",
      "See the caveats in the documentation: https://pandas.pydata.org/pandas-docs/stable/user_guide/indexing.html#returning-a-view-versus-a-copy\n",
      "  new_data['tmin(degC)'] = new_data['tmin(degC)'].astype(float)\n"
     ]
    }
   ],
   "source": [
    "new_data['tmax(degC)'] = new_data['tmax(degC)'].astype(float)\n",
    "new_data['tmin(degC)'] = new_data['tmin(degC)'].astype(float)"
   ]
  },
  {
   "cell_type": "code",
   "execution_count": 62,
   "id": "91214b6e",
   "metadata": {},
   "outputs": [
    {
     "name": "stderr",
     "output_type": "stream",
     "text": [
      "/tmp/ipykernel_12899/3038493061.py:1: SettingWithCopyWarning: \n",
      "A value is trying to be set on a copy of a slice from a DataFrame.\n",
      "Try using .loc[row_indexer,col_indexer] = value instead\n",
      "\n",
      "See the caveats in the documentation: https://pandas.pydata.org/pandas-docs/stable/user_guide/indexing.html#returning-a-view-versus-a-copy\n",
      "  new_data['avgtemp(degC)'] = new_data[['tmax(degC)','tmin(degC)']].mean(axis=1)\n"
     ]
    }
   ],
   "source": [
    "new_data['avgtemp(degC)'] = new_data[['tmax(degC)','tmin(degC)']].mean(axis=1)"
   ]
  },
  {
   "cell_type": "code",
   "execution_count": 63,
   "id": "d00d77f7",
   "metadata": {},
   "outputs": [
    {
     "data": {
      "text/html": [
       "<div>\n",
       "<style scoped>\n",
       "    .dataframe tbody tr th:only-of-type {\n",
       "        vertical-align: middle;\n",
       "    }\n",
       "\n",
       "    .dataframe tbody tr th {\n",
       "        vertical-align: top;\n",
       "    }\n",
       "\n",
       "    .dataframe thead th {\n",
       "        text-align: right;\n",
       "    }\n",
       "</style>\n",
       "<table border=\"1\" class=\"dataframe\">\n",
       "  <thead>\n",
       "    <tr style=\"text-align: right;\">\n",
       "      <th></th>\n",
       "      <th>yyyy</th>\n",
       "      <th>mm</th>\n",
       "      <th>tmax(degC)</th>\n",
       "      <th>tmin(degC)</th>\n",
       "      <th>af(days)</th>\n",
       "      <th>rain(mm)</th>\n",
       "      <th>sun(hours)</th>\n",
       "      <th>avgtemp(degC)</th>\n",
       "    </tr>\n",
       "  </thead>\n",
       "  <tbody>\n",
       "    <tr>\n",
       "      <th>0</th>\n",
       "      <td>1883</td>\n",
       "      <td>1</td>\n",
       "      <td>6.3</td>\n",
       "      <td>1.7</td>\n",
       "      <td>6</td>\n",
       "      <td>122.1</td>\n",
       "      <td>---</td>\n",
       "      <td>4.00</td>\n",
       "    </tr>\n",
       "    <tr>\n",
       "      <th>1</th>\n",
       "      <td>1883</td>\n",
       "      <td>2</td>\n",
       "      <td>8.0</td>\n",
       "      <td>2.8</td>\n",
       "      <td>2</td>\n",
       "      <td>69.8</td>\n",
       "      <td>---</td>\n",
       "      <td>5.40</td>\n",
       "    </tr>\n",
       "    <tr>\n",
       "      <th>2</th>\n",
       "      <td>1883</td>\n",
       "      <td>3</td>\n",
       "      <td>4.8</td>\n",
       "      <td>-1.6</td>\n",
       "      <td>23</td>\n",
       "      <td>29.6</td>\n",
       "      <td>---</td>\n",
       "      <td>1.60</td>\n",
       "    </tr>\n",
       "    <tr>\n",
       "      <th>3</th>\n",
       "      <td>1883</td>\n",
       "      <td>4</td>\n",
       "      <td>12.2</td>\n",
       "      <td>3.8</td>\n",
       "      <td>2</td>\n",
       "      <td>74.0</td>\n",
       "      <td>---</td>\n",
       "      <td>8.00</td>\n",
       "    </tr>\n",
       "    <tr>\n",
       "      <th>4</th>\n",
       "      <td>1883</td>\n",
       "      <td>5</td>\n",
       "      <td>14.7</td>\n",
       "      <td>6.2</td>\n",
       "      <td>0</td>\n",
       "      <td>31.2</td>\n",
       "      <td>---</td>\n",
       "      <td>10.45</td>\n",
       "    </tr>\n",
       "    <tr>\n",
       "      <th>...</th>\n",
       "      <td>...</td>\n",
       "      <td>...</td>\n",
       "      <td>...</td>\n",
       "      <td>...</td>\n",
       "      <td>...</td>\n",
       "      <td>...</td>\n",
       "      <td>...</td>\n",
       "      <td>...</td>\n",
       "    </tr>\n",
       "    <tr>\n",
       "      <th>1673</th>\n",
       "      <td>2022</td>\n",
       "      <td>6</td>\n",
       "      <td>20.4</td>\n",
       "      <td>10.8</td>\n",
       "      <td>0</td>\n",
       "      <td>55.0</td>\n",
       "      <td>31.7</td>\n",
       "      <td>15.60</td>\n",
       "    </tr>\n",
       "    <tr>\n",
       "      <th>1674</th>\n",
       "      <td>2022</td>\n",
       "      <td>7</td>\n",
       "      <td>23.3</td>\n",
       "      <td>14.5</td>\n",
       "      <td>0</td>\n",
       "      <td>23.0</td>\n",
       "      <td>190.6</td>\n",
       "      <td>18.90</td>\n",
       "    </tr>\n",
       "    <tr>\n",
       "      <th>1675</th>\n",
       "      <td>2022</td>\n",
       "      <td>8</td>\n",
       "      <td>23.9</td>\n",
       "      <td>13.6</td>\n",
       "      <td>0</td>\n",
       "      <td>56.4</td>\n",
       "      <td>233.4</td>\n",
       "      <td>18.75</td>\n",
       "    </tr>\n",
       "    <tr>\n",
       "      <th>1676</th>\n",
       "      <td>2022</td>\n",
       "      <td>9</td>\n",
       "      <td>18.4</td>\n",
       "      <td>11.1</td>\n",
       "      <td>0</td>\n",
       "      <td>50.0</td>\n",
       "      <td>122.2</td>\n",
       "      <td>14.75</td>\n",
       "    </tr>\n",
       "    <tr>\n",
       "      <th>1677</th>\n",
       "      <td>2022</td>\n",
       "      <td>10</td>\n",
       "      <td>15.6</td>\n",
       "      <td>9.6</td>\n",
       "      <td>0</td>\n",
       "      <td>124.0</td>\n",
       "      <td>109.9</td>\n",
       "      <td>12.60</td>\n",
       "    </tr>\n",
       "  </tbody>\n",
       "</table>\n",
       "<p>1654 rows × 8 columns</p>\n",
       "</div>"
      ],
      "text/plain": [
       "      yyyy  mm  tmax(degC)  tmin(degC) af(days)  rain(mm) sun(hours)  \\\n",
       "0     1883   1         6.3         1.7        6     122.1        ---   \n",
       "1     1883   2         8.0         2.8        2      69.8        ---   \n",
       "2     1883   3         4.8        -1.6       23      29.6        ---   \n",
       "3     1883   4        12.2         3.8        2      74.0        ---   \n",
       "4     1883   5        14.7         6.2        0      31.2        ---   \n",
       "...    ...  ..         ...         ...      ...       ...        ...   \n",
       "1673  2022   6        20.4        10.8        0      55.0       31.7   \n",
       "1674  2022   7        23.3        14.5        0      23.0      190.6   \n",
       "1675  2022   8        23.9        13.6        0      56.4      233.4   \n",
       "1676  2022   9        18.4        11.1        0      50.0      122.2   \n",
       "1677  2022  10        15.6         9.6        0     124.0      109.9   \n",
       "\n",
       "      avgtemp(degC)  \n",
       "0              4.00  \n",
       "1              5.40  \n",
       "2              1.60  \n",
       "3              8.00  \n",
       "4             10.45  \n",
       "...             ...  \n",
       "1673          15.60  \n",
       "1674          18.90  \n",
       "1675          18.75  \n",
       "1676          14.75  \n",
       "1677          12.60  \n",
       "\n",
       "[1654 rows x 8 columns]"
      ]
     },
     "execution_count": 63,
     "metadata": {},
     "output_type": "execute_result"
    }
   ],
   "source": [
    "new_data"
   ]
  },
  {
   "cell_type": "code",
   "execution_count": 64,
   "id": "c8af1760",
   "metadata": {},
   "outputs": [],
   "source": [
    "test_data = new_data[['yyyy','avgtemp(degC)']]"
   ]
  },
  {
   "cell_type": "code",
   "execution_count": 65,
   "id": "7ac82eea",
   "metadata": {},
   "outputs": [],
   "source": [
    "test_data = test_data.groupby('yyyy').mean()"
   ]
  },
  {
   "cell_type": "code",
   "execution_count": 67,
   "id": "d03471a7",
   "metadata": {},
   "outputs": [
    {
     "data": {
      "text/plain": [
       "<AxesSubplot: xlabel='yyyy', ylabel='avgtemp(degC)'>"
      ]
     },
     "execution_count": 67,
     "metadata": {},
     "output_type": "execute_result"
    },
    {
     "data": {
      "image/png": "[encoded data removed]",
      "text/plain": [
       "<Figure size 640x480 with 1 Axes>"
      ]
     },
     "metadata": {},
     "output_type": "display_data"
    }
   ],
   "source": [
    "sns.lineplot(test_data['avgtemp(degC)'])"
   ]
  },
  {
   "cell_type": "code",
   "execution_count": null,
   "id": "aa5082af",
   "metadata": {},
   "outputs": [],
   "source": []
  }
 ],
 "metadata": {
  "kernelspec": {
   "display_name": "Python 3 (ipykernel)",
   "language": "python",
   "name": "python3"
  },
  "language_info": {
   "codemirror_mode": {
    "name": "ipython",
    "version": 3
   },
   "file_extension": ".py",
   "mimetype": "text/x-python",
   "name": "python",
   "nbconvert_exporter": "python",
   "pygments_lexer": "ipython3",
   "version": "3.10.6"
  },
  "toc": {
   "base_numbering": 1,
   "nav_menu": {},
   "number_sections": true,
   "sideBar": true,
   "skip_h1_title": false,
   "title_cell": "Table of Contents",
   "title_sidebar": "Contents",
   "toc_cell": false,
   "toc_position": {},
   "toc_section_display": true,
   "toc_window_display": false
  }
 },
 "nbformat": 4,
 "nbformat_minor": 5
}
