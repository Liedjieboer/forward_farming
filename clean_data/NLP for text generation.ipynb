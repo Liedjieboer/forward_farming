{
 "cells": [
  {
   "cell_type": "code",
   "execution_count": 368,
   "id": "86ed523b",
   "metadata": {},
   "outputs": [],
   "source": [
    "import pandas as pd\n",
    "import tensorflow as tf\n",
    "from tensorflow.keras.preprocessing.text import Tokenizer\n",
    "from tensorflow import keras\n",
    "import numpy as np\n",
    "from tensorflow.keras.preprocessing.sequence import pad_sequences\n",
    "import re\n",
    "from sklearn.preprocessing import OneHotEncoder\n",
    "from tensorflow.keras.layers import SimpleRNN, LSTM, Dense, Embedding, concatenate, Flatten, Dropout, BatchNormalization\n",
    "from tensorflow.keras import Input\n",
    "from tensorflow.keras import Model\n",
    "from tensorflow.keras.preprocessing.text import text_to_word_sequence\n",
    "from gensim.models import Word2Vec\n",
    "from tensorflow.keras.callbacks import EarlyStopping"
   ]
  },
  {
   "cell_type": "code",
   "execution_count": 401,
   "id": "bb878f67",
   "metadata": {},
   "outputs": [],
   "source": [
    "data = pd.read_csv('/Users/student/code/Liedjieboer/forward_farming/clean_data/winemag-data-130k-v2.csv')"
   ]
  },
  {
   "cell_type": "code",
   "execution_count": 402,
   "id": "93f65122",
   "metadata": {},
   "outputs": [],
   "source": [
    "data = data[['country', 'points', 'description']]"
   ]
  },
  {
   "cell_type": "code",
   "execution_count": 407,
   "id": "f86b5fc5",
   "metadata": {},
   "outputs": [
    {
     "data": {
      "text/html": [
       "<div>\n",
       "<style scoped>\n",
       "    .dataframe tbody tr th:only-of-type {\n",
       "        vertical-align: middle;\n",
       "    }\n",
       "\n",
       "    .dataframe tbody tr th {\n",
       "        vertical-align: top;\n",
       "    }\n",
       "\n",
       "    .dataframe thead th {\n",
       "        text-align: right;\n",
       "    }\n",
       "</style>\n",
       "<table border=\"1\" class=\"dataframe\">\n",
       "  <thead>\n",
       "    <tr style=\"text-align: right;\">\n",
       "      <th></th>\n",
       "      <th>country</th>\n",
       "      <th>points</th>\n",
       "      <th>description</th>\n",
       "    </tr>\n",
       "  </thead>\n",
       "  <tbody>\n",
       "    <tr>\n",
       "      <th>4073</th>\n",
       "      <td>England</td>\n",
       "      <td>90</td>\n",
       "      <td>A mix of fruity notes immediately hit: white c...</td>\n",
       "    </tr>\n",
       "    <tr>\n",
       "      <th>6700</th>\n",
       "      <td>England</td>\n",
       "      <td>91</td>\n",
       "      <td>Crisp green apple flavors are immediately appa...</td>\n",
       "    </tr>\n",
       "    <tr>\n",
       "      <th>9909</th>\n",
       "      <td>England</td>\n",
       "      <td>95</td>\n",
       "      <td>Touches of vanilla, cream and lovely hints of ...</td>\n",
       "    </tr>\n",
       "    <tr>\n",
       "      <th>22156</th>\n",
       "      <td>England</td>\n",
       "      <td>91</td>\n",
       "      <td>Golden color and hints of oatmeal on the nose ...</td>\n",
       "    </tr>\n",
       "    <tr>\n",
       "      <th>22369</th>\n",
       "      <td>England</td>\n",
       "      <td>94</td>\n",
       "      <td>Pure notes of red apple rise from the glass, p...</td>\n",
       "    </tr>\n",
       "    <tr>\n",
       "      <th>...</th>\n",
       "      <td>...</td>\n",
       "      <td>...</td>\n",
       "      <td>...</td>\n",
       "    </tr>\n",
       "    <tr>\n",
       "      <th>124898</th>\n",
       "      <td>England</td>\n",
       "      <td>93</td>\n",
       "      <td>Creaminess and stone are all that is signalled...</td>\n",
       "    </tr>\n",
       "    <tr>\n",
       "      <th>124922</th>\n",
       "      <td>England</td>\n",
       "      <td>89</td>\n",
       "      <td>The nose tells of the crisp green freshness of...</td>\n",
       "    </tr>\n",
       "    <tr>\n",
       "      <th>124924</th>\n",
       "      <td>England</td>\n",
       "      <td>89</td>\n",
       "      <td>There is a flinty touch of reduction on the no...</td>\n",
       "    </tr>\n",
       "    <tr>\n",
       "      <th>128098</th>\n",
       "      <td>England</td>\n",
       "      <td>89</td>\n",
       "      <td>Creamy notes of tart red currant and crisp red...</td>\n",
       "    </tr>\n",
       "    <tr>\n",
       "      <th>128839</th>\n",
       "      <td>England</td>\n",
       "      <td>92</td>\n",
       "      <td>Creamy notes of Golden Pearmain apple, shortcr...</td>\n",
       "    </tr>\n",
       "  </tbody>\n",
       "</table>\n",
       "<p>74 rows × 3 columns</p>\n",
       "</div>"
      ],
      "text/plain": [
       "        country  points                                        description\n",
       "4073    England      90  A mix of fruity notes immediately hit: white c...\n",
       "6700    England      91  Crisp green apple flavors are immediately appa...\n",
       "9909    England      95  Touches of vanilla, cream and lovely hints of ...\n",
       "22156   England      91  Golden color and hints of oatmeal on the nose ...\n",
       "22369   England      94  Pure notes of red apple rise from the glass, p...\n",
       "...         ...     ...                                                ...\n",
       "124898  England      93  Creaminess and stone are all that is signalled...\n",
       "124922  England      89  The nose tells of the crisp green freshness of...\n",
       "124924  England      89  There is a flinty touch of reduction on the no...\n",
       "128098  England      89  Creamy notes of tart red currant and crisp red...\n",
       "128839  England      92  Creamy notes of Golden Pearmain apple, shortcr...\n",
       "\n",
       "[74 rows x 3 columns]"
      ]
     },
     "execution_count": 407,
     "metadata": {},
     "output_type": "execute_result"
    }
   ],
   "source": [
    "data[data['country'] == 'England']"
   ]
  },
  {
   "cell_type": "code",
   "execution_count": 195,
   "id": "430270f3",
   "metadata": {},
   "outputs": [],
   "source": [
    "def encode(val):\n",
    "    if val < 86:\n",
    "        return 'bad'\n",
    "    \n",
    "    elif 86 <= val <= 92:\n",
    "        return 'good'\n",
    "    \n",
    "    else:\n",
    "        return 'excellent'"
   ]
  },
  {
   "cell_type": "code",
   "execution_count": 408,
   "id": "c0f1c0c2",
   "metadata": {},
   "outputs": [],
   "source": [
    "data['points'] = data['points'].apply(encode)"
   ]
  },
  {
   "cell_type": "code",
   "execution_count": 144,
   "id": "c11bacb6",
   "metadata": {},
   "outputs": [
    {
     "data": {
      "text/plain": [
       "(129971, 3)"
      ]
     },
     "execution_count": 144,
     "metadata": {},
     "output_type": "execute_result"
    }
   ],
   "source": [
    "data.shape"
   ]
  },
  {
   "cell_type": "code",
   "execution_count": 221,
   "id": "ff272608",
   "metadata": {},
   "outputs": [
    {
     "data": {
      "text/plain": [
       "good         95348\n",
       "bad          21960\n",
       "excellent    12663\n",
       "Name: points, dtype: int64"
      ]
     },
     "execution_count": 221,
     "metadata": {},
     "output_type": "execute_result"
    }
   ],
   "source": [
    "data['points'].value_counts()"
   ]
  },
  {
   "cell_type": "code",
   "execution_count": 199,
   "id": "18007db7",
   "metadata": {},
   "outputs": [],
   "source": [
    "Ohe = OneHotEncoder(sparse=False)"
   ]
  },
  {
   "cell_type": "code",
   "execution_count": 201,
   "id": "1586efe4",
   "metadata": {},
   "outputs": [],
   "source": [
    "country_OHE = Ohe.fit_transform(data[[\"country\", \"points\"]])"
   ]
  },
  {
   "cell_type": "code",
   "execution_count": 205,
   "id": "d9a276c2",
   "metadata": {},
   "outputs": [],
   "source": [
    "lst_sent = data[\"description\"].to_list()"
   ]
  },
  {
   "cell_type": "code",
   "execution_count": 207,
   "id": "527d13e0",
   "metadata": {},
   "outputs": [],
   "source": [
    "scaled_sentence = [text_to_word_sequence(x)for x in lst_sent]"
   ]
  },
  {
   "cell_type": "code",
   "execution_count": 212,
   "id": "907b5259",
   "metadata": {},
   "outputs": [],
   "source": [
    "word2vec = Word2Vec(sentences=scaled_sentence, vector_size=60, min_count=10, window=10)"
   ]
  },
  {
   "cell_type": "code",
   "execution_count": 213,
   "id": "cbcbd3f2",
   "metadata": {},
   "outputs": [],
   "source": [
    "# Function to convert a sentence (list of words) into a matrix representing the words in the embedding space\n",
    "def embed_sentence(word2vec, sentence):\n",
    "    embedded_sentence = []\n",
    "    for word in sentence:\n",
    "        if word in word2vec.wv:\n",
    "            embedded_sentence.append(word2vec.wv[word])\n",
    "        \n",
    "    return np.array(embedded_sentence)\n",
    "\n",
    "# Function that converts a list of sentences into a list of matrices\n",
    "def embedding(word2vec, sentences):\n",
    "    embed = []\n",
    "    \n",
    "    for sentence in sentences:\n",
    "        embedded_sentence = embed_sentence(word2vec, sentence)\n",
    "        embed.append(embedded_sentence)\n",
    "        \n",
    "    return embed\n",
    "\n",
    "# Embed the training and test sentences\n",
    "X_train_embed = embedding(word2vec, scaled_sentence)"
   ]
  },
  {
   "cell_type": "code",
   "execution_count": 308,
   "id": "6917f0df",
   "metadata": {},
   "outputs": [
    {
     "data": {
      "text/plain": [
       "(129971, 100, 60)"
      ]
     },
     "execution_count": 308,
     "metadata": {},
     "output_type": "execute_result"
    }
   ],
   "source": [
    "X_train_pad = pad_sequences(X_train_embed, dtype='float32', padding='post', maxlen=100)\n",
    "X_train_pad.shape"
   ]
  },
  {
   "cell_type": "code",
   "execution_count": 301,
   "id": "1d05436e",
   "metadata": {},
   "outputs": [
    {
     "data": {
      "text/plain": [
       "(65, 60)"
      ]
     },
     "execution_count": 301,
     "metadata": {},
     "output_type": "execute_result"
    }
   ],
   "source": [
    "X_train_pad[0].shape"
   ]
  },
  {
   "cell_type": "code",
   "execution_count": 363,
   "id": "f39250d7",
   "metadata": {},
   "outputs": [],
   "source": [
    "num_tags = 47  # Number of unique issue tags  # Size of vocabulary obtained when preprocessing text data\n",
    "\n",
    "title_input = keras.Input(\n",
    "    shape=(10,60), name=\"title\"\n",
    ")  # Variable-length sequence of ints\n",
    "  # Variable-length sequence of ints\n",
    "tags_input = keras.Input(\n",
    "    shape=(num_tags,), name=\"tags\"\n",
    ")  # Binary vectors of size `num_tags`\n",
    "\n",
    "\n",
    "# Reduce sequence of embedded words in the title into a single 128-dimensional vector\n",
    "title_features = layers.LSTM(128)(title_input)\n",
    "# Reduce sequence of embedded words in the body into a single 32-dimensional vector\n",
    "\n",
    "# Merge all available features into a single large vector via concatenation\n",
    "x = layers.concatenate([title_features,  tags_input])\n",
    "\n",
    "# Stick a department classifier on top of the features\n",
    "department_pred = layers.Dense(60*90, name=\"department\")(x)\n",
    "final_output_layer = layers.Reshape((90,60), input_shape= (60*90,))(department_pred)\n",
    "\n",
    "# Instantiate an end-to-end model predicting both priority and department\n",
    "model = keras.Model(\n",
    "    inputs=[title_input, tags_input],\n",
    "    outputs=[final_output_layer],\n",
    ")"
   ]
  },
  {
   "cell_type": "code",
   "execution_count": 364,
   "id": "10060ef2",
   "metadata": {},
   "outputs": [],
   "source": [
    "model.compile(optimizer=\"adam\", loss = \"mse\")"
   ]
  },
  {
   "cell_type": "code",
   "execution_count": 361,
   "id": "235d9ab4",
   "metadata": {},
   "outputs": [],
   "source": [
    "X_train_true = np.array([X_train_pad[i][:10] for i in range(0,129971)])"
   ]
  },
  {
   "cell_type": "code",
   "execution_count": 311,
   "id": "e55ab7b3",
   "metadata": {},
   "outputs": [
    {
     "data": {
      "text/plain": [
       "(129971, 3, 60)"
      ]
     },
     "execution_count": 311,
     "metadata": {},
     "output_type": "execute_result"
    }
   ],
   "source": [
    "X_train_true.shape"
   ]
  },
  {
   "cell_type": "code",
   "execution_count": 362,
   "id": "190ec3be",
   "metadata": {},
   "outputs": [],
   "source": [
    "y = np.array([X_train_pad[i][10:] for i in range(0,129971)])"
   ]
  },
  {
   "cell_type": "code",
   "execution_count": 312,
   "id": "95c94a63",
   "metadata": {},
   "outputs": [
    {
     "data": {
      "text/plain": [
       "(129971, 97, 60)"
      ]
     },
     "execution_count": 312,
     "metadata": {},
     "output_type": "execute_result"
    }
   ],
   "source": [
    "y.shape"
   ]
  },
  {
   "cell_type": "code",
   "execution_count": 373,
   "id": "6f022c1b",
   "metadata": {},
   "outputs": [],
   "source": [
    "es = EarlyStopping(patience = 3, restore_best_weights = True, monitor = 'loss')"
   ]
  },
  {
   "cell_type": "code",
   "execution_count": 444,
   "id": "ffcf54ed",
   "metadata": {},
   "outputs": [
    {
     "name": "stdout",
     "output_type": "stream",
     "text": [
      "Epoch 1/100\n",
      "4062/4062 [==============================] - 187s 46ms/step - loss: 1.6163\n",
      "Epoch 2/100\n",
      "4062/4062 [==============================] - 166s 41ms/step - loss: 1.6161\n",
      "Epoch 3/100\n",
      "4062/4062 [==============================] - 151s 37ms/step - loss: 1.6159\n",
      "Epoch 4/100\n",
      "4062/4062 [==============================] - 162s 40ms/step - loss: 1.6156\n",
      "Epoch 5/100\n",
      "4062/4062 [==============================] - 154s 38ms/step - loss: 1.6154\n",
      "Epoch 6/100\n",
      "4062/4062 [==============================] - 150s 37ms/step - loss: 1.6153\n",
      "Epoch 7/100\n",
      "4062/4062 [==============================] - 151s 37ms/step - loss: 1.6151\n",
      "Epoch 8/100\n",
      "4062/4062 [==============================] - 159s 39ms/step - loss: 1.6149\n",
      "Epoch 9/100\n",
      "4062/4062 [==============================] - 144s 36ms/step - loss: 1.6148\n",
      "Epoch 10/100\n",
      "4062/4062 [==============================] - 146s 36ms/step - loss: 1.6146\n",
      "Epoch 11/100\n",
      "4062/4062 [==============================] - 156s 38ms/step - loss: 1.6144\n",
      "Epoch 12/100\n",
      "4062/4062 [==============================] - 158s 39ms/step - loss: 1.6143\n",
      "Epoch 13/100\n",
      "4062/4062 [==============================] - 147s 36ms/step - loss: 1.6142\n",
      "Epoch 14/100\n",
      "4062/4062 [==============================] - 152s 37ms/step - loss: 1.6140\n",
      "Epoch 15/100\n",
      "4062/4062 [==============================] - 148s 36ms/step - loss: 1.6139\n",
      "Epoch 16/100\n",
      "4062/4062 [==============================] - 147s 36ms/step - loss: 1.6138\n",
      "Epoch 17/100\n",
      "4062/4062 [==============================] - 151s 37ms/step - loss: 1.6137\n",
      "Epoch 18/100\n",
      "4062/4062 [==============================] - 149s 37ms/step - loss: 1.6136\n",
      "Epoch 19/100\n",
      "4062/4062 [==============================] - 146s 36ms/step - loss: 1.6135\n",
      "Epoch 20/100\n",
      "4062/4062 [==============================] - 148s 37ms/step - loss: 1.6134\n",
      "Epoch 21/100\n",
      "4062/4062 [==============================] - 154s 38ms/step - loss: 1.6133\n",
      "Epoch 22/100\n",
      "4062/4062 [==============================] - 154s 38ms/step - loss: 1.6132\n",
      "Epoch 23/100\n",
      "4062/4062 [==============================] - 154s 38ms/step - loss: 1.6131\n",
      "Epoch 24/100\n",
      "4062/4062 [==============================] - 165s 41ms/step - loss: 1.6130\n",
      "Epoch 25/100\n",
      "4062/4062 [==============================] - 166s 41ms/step - loss: 1.6130\n",
      "Epoch 26/100\n",
      "4062/4062 [==============================] - 170s 42ms/step - loss: 1.6128\n",
      "Epoch 27/100\n",
      "4062/4062 [==============================] - 139s 34ms/step - loss: 1.6128\n",
      "Epoch 28/100\n",
      "4062/4062 [==============================] - 166s 41ms/step - loss: 1.6127\n",
      "Epoch 29/100\n",
      "4062/4062 [==============================] - 174s 43ms/step - loss: 1.6126\n",
      "Epoch 30/100\n",
      "4062/4062 [==============================] - 176s 43ms/step - loss: 1.6126\n",
      "Epoch 31/100\n",
      "4062/4062 [==============================] - 176s 43ms/step - loss: 1.6125\n",
      "Epoch 32/100\n",
      "4062/4062 [==============================] - 151s 37ms/step - loss: 1.6125\n",
      "Epoch 33/100\n",
      "4062/4062 [==============================] - 158s 39ms/step - loss: 1.6123\n",
      "Epoch 34/100\n",
      "4062/4062 [==============================] - 156s 38ms/step - loss: 1.6123\n",
      "Epoch 35/100\n",
      "4062/4062 [==============================] - 154s 38ms/step - loss: 1.6122\n",
      "Epoch 36/100\n",
      "4062/4062 [==============================] - 159s 39ms/step - loss: 1.6122\n",
      "Epoch 37/100\n",
      "4062/4062 [==============================] - 152s 37ms/step - loss: 1.6121\n",
      "Epoch 38/100\n",
      "4062/4062 [==============================] - 150s 37ms/step - loss: 1.6121\n",
      "Epoch 39/100\n",
      "4062/4062 [==============================] - 150s 37ms/step - loss: 1.6120\n",
      "Epoch 40/100\n",
      "4062/4062 [==============================] - 145s 36ms/step - loss: 1.6120\n",
      "Epoch 41/100\n",
      "4062/4062 [==============================] - 157s 39ms/step - loss: 1.6119\n",
      "Epoch 42/100\n",
      "4062/4062 [==============================] - 148s 36ms/step - loss: 1.6118\n",
      "Epoch 43/100\n",
      "4062/4062 [==============================] - 155s 38ms/step - loss: 1.6118\n",
      "Epoch 44/100\n",
      "4062/4062 [==============================] - 150s 37ms/step - loss: 1.6118\n",
      "Epoch 45/100\n",
      "4062/4062 [==============================] - 154s 38ms/step - loss: 1.6117\n",
      "Epoch 46/100\n",
      "4062/4062 [==============================] - 156s 38ms/step - loss: 1.6117\n",
      "Epoch 47/100\n",
      "4062/4062 [==============================] - 147s 36ms/step - loss: 1.6116\n",
      "Epoch 48/100\n",
      "4062/4062 [==============================] - 146s 36ms/step - loss: 1.6116\n",
      "Epoch 49/100\n",
      "4062/4062 [==============================] - 149s 37ms/step - loss: 1.6115\n",
      "Epoch 50/100\n",
      "4062/4062 [==============================] - 158s 39ms/step - loss: 1.6115\n",
      "Epoch 51/100\n",
      "4062/4062 [==============================] - 154s 38ms/step - loss: 1.6115\n",
      "Epoch 52/100\n",
      "4062/4062 [==============================] - 149s 37ms/step - loss: 1.6115\n",
      "Epoch 53/100\n",
      "4062/4062 [==============================] - 157s 39ms/step - loss: 1.6114\n",
      "Epoch 54/100\n",
      "4062/4062 [==============================] - 147s 36ms/step - loss: 1.6115\n",
      "Epoch 55/100\n",
      "4062/4062 [==============================] - 150s 37ms/step - loss: 1.6114\n",
      "Epoch 56/100\n",
      "4062/4062 [==============================] - 144s 36ms/step - loss: 1.6113\n",
      "Epoch 57/100\n",
      "4062/4062 [==============================] - 161s 40ms/step - loss: 1.6113\n",
      "Epoch 58/100\n",
      "4062/4062 [==============================] - 149s 37ms/step - loss: 1.6113\n",
      "Epoch 59/100\n",
      "4062/4062 [==============================] - 151s 37ms/step - loss: 1.6113\n"
     ]
    },
    {
     "data": {
      "text/plain": [
       "<keras.callbacks.History at 0x1d607ba30>"
      ]
     },
     "execution_count": 444,
     "metadata": {},
     "output_type": "execute_result"
    }
   ],
   "source": [
    "model.fit(x = [X_train_true, country_OHE], y = y, epochs=100, callbacks = [es])"
   ]
  },
  {
   "cell_type": "code",
   "execution_count": 298,
   "id": "2f1b7044",
   "metadata": {},
   "outputs": [
    {
     "name": "stdout",
     "output_type": "stream",
     "text": [
      "Model: \"model_1\"\n",
      "__________________________________________________________________________________________________\n",
      " Layer (type)                   Output Shape         Param #     Connected to                     \n",
      "==================================================================================================\n",
      " title (InputLayer)             [(None, 100, 60)]    0           []                               \n",
      "                                                                                                  \n",
      " lstm_12 (LSTM)                 (None, 128)          96768       ['title[0][0]']                  \n",
      "                                                                                                  \n",
      " tags (InputLayer)              [(None, 47)]         0           []                               \n",
      "                                                                                                  \n",
      " concatenate_1 (Concatenate)    (None, 175)          0           ['lstm_12[0][0]',                \n",
      "                                                                  'tags[0][0]']                   \n",
      "                                                                                                  \n",
      " department (Dense)             (None, 60)           10560       ['concatenate_1[0][0]']          \n",
      "                                                                                                  \n",
      "==================================================================================================\n",
      "Total params: 107,328\n",
      "Trainable params: 107,328\n",
      "Non-trainable params: 0\n",
      "__________________________________________________________________________________________________\n"
     ]
    }
   ],
   "source": [
    "model.summary()"
   ]
  },
  {
   "cell_type": "code",
   "execution_count": 299,
   "id": "24831237",
   "metadata": {},
   "outputs": [
    {
     "name": "stdout",
     "output_type": "stream",
     "text": [
      "You must install pydot (`pip install pydot`) and install graphviz (see instructions at https://graphviz.gitlab.io/download/) for plot_model to work.\n"
     ]
    }
   ],
   "source": [
    "keras.utils.plot_model(model, \"multi_input_and_output_model.png\", show_shapes=True)"
   ]
  },
  {
   "cell_type": "code",
   "execution_count": 436,
   "id": "b015f47e",
   "metadata": {},
   "outputs": [],
   "source": [
    "lst = []\n",
    "lst.append(word2vec.wv['the'])\n",
    "lst.append(word2vec.wv['wine'])\n",
    "lst.append(word2vec.wv['has'])\n",
    "lst.append(word2vec.wv['a'])\n",
    "lst.append(word2vec.wv['full'])\n",
    "lst.append(word2vec.wv['body'])\n",
    "lst.append(word2vec.wv['with'])\n",
    "lst.append(word2vec.wv['notes'])\n",
    "lst.append(word2vec.wv['of'])\n",
    "lst.append(word2vec.wv['cream'])\n",
    "\n",
    "sentence_dummy = np.array(lst)\n"
   ]
  },
  {
   "cell_type": "code",
   "execution_count": 437,
   "id": "5b33f944",
   "metadata": {},
   "outputs": [
    {
     "data": {
      "text/plain": [
       "array([[[-1.5492995e+00,  1.9984275e+00, -2.2047281e+00, -9.8416859e-01,\n",
       "          4.0636425e+00,  2.7126929e-01, -3.0776113e-01, -8.0594409e-01,\n",
       "          8.3566123e-01, -1.5392100e+00, -3.4448320e-01,  1.5546471e-01,\n",
       "         -2.1625874e+00, -3.2390130e-01,  2.4263144e+00,  2.6277950e-01,\n",
       "          3.8651752e-01, -1.8618387e-01,  2.7404194e+00,  1.5126208e+00,\n",
       "         -1.4293277e+00,  1.0313597e+00,  1.0607793e+00, -6.7597145e-01,\n",
       "         -1.4032891e+00,  4.1763788e-01,  2.3677871e+00, -8.8272578e-01,\n",
       "          9.8124897e-01,  2.5763211e+00,  1.2614928e+00,  3.7713704e+00,\n",
       "         -2.8052120e+00, -2.4427965e-01,  1.5355296e+00,  7.2721517e-01,\n",
       "         -2.3449163e+00, -1.8851796e+00, -3.9920516e-02,  1.3156286e+00,\n",
       "          2.2418332e+00,  2.9242113e+00, -1.5167044e-01, -8.1673449e-01,\n",
       "         -1.6051136e+00, -8.9713335e-01,  4.0738778e+00, -2.2531400e+00,\n",
       "         -5.3778875e-01, -9.8846805e-01,  1.9412811e+00,  4.6243012e-01,\n",
       "         -2.1752014e+00, -9.9211931e-01,  6.5951347e-01, -6.7531461e-01,\n",
       "         -3.3976609e-01, -8.9980441e-01,  9.1305304e-01, -1.0350868e+00],\n",
       "        [-7.6497591e-01, -3.3825688e+00,  4.8571542e-01,  1.3142483e+00,\n",
       "          2.9096487e-01, -5.0578070e-01, -2.8553069e+00, -2.0444133e+00,\n",
       "         -2.2666559e-01, -2.0190465e+00, -7.6146799e-01, -2.5973938e+00,\n",
       "          2.6428046e+00,  6.0882080e-01,  5.3958791e-01,  2.7935767e+00,\n",
       "          1.4526458e+00,  6.2863779e-01,  2.0066373e+00, -5.6690180e-01,\n",
       "          1.9034836e-01,  1.9986712e+00, -5.4331141e+00,  4.1057405e-01,\n",
       "         -3.4888840e-01, -1.9342899e+00,  6.2944812e-01,  4.2455181e-01,\n",
       "          3.2176614e+00, -1.9298066e+00,  1.1087598e+00,  2.5887737e+00,\n",
       "          2.9734609e+00,  1.4592929e+00, -1.2977053e+00, -1.4732974e+00,\n",
       "         -7.5784779e-01, -1.5492134e+00,  7.8674972e-01, -1.4188011e+00,\n",
       "          9.2593634e-01, -2.8978670e+00,  3.0001870e-01, -1.2021238e+00,\n",
       "         -5.4660749e+00,  2.0447282e-01, -4.0421280e-01,  2.0962806e+00,\n",
       "          9.4820619e-01,  3.2747135e+00, -1.1912047e-01,  4.7085130e-01,\n",
       "         -1.9636743e+00, -1.1381336e+00, -1.2801467e+00, -2.9247918e+00,\n",
       "         -1.0696223e+00,  6.5951657e-01,  1.7417282e-01,  1.9998799e-01],\n",
       "        [ 1.2990975e+00,  4.3866291e+00, -2.7803509e+00, -3.2561765e+00,\n",
       "          1.7507695e+00,  9.5204020e-01, -3.0673892e+00, -2.8834980e+00,\n",
       "          5.5611707e-02, -4.7727652e+00, -6.0548002e-01, -2.9235508e+00,\n",
       "          1.8622600e+00,  1.1704371e+00, -7.4590611e+00,  4.1600189e+00,\n",
       "         -6.2214293e+00, -3.2335237e-01, -1.8144522e+00,  1.8620945e+00,\n",
       "         -3.4148091e-01,  4.4876442e+00,  2.4278781e-01, -2.8556750e+00,\n",
       "         -6.3005441e-01,  3.4432156e+00,  2.0054200e+00,  3.1451387e+00,\n",
       "          8.9271456e-01, -1.6993086e+00, -1.3115399e+00, -1.0034436e+00,\n",
       "          2.6730647e+00, -2.8158963e+00,  2.6736875e+00,  3.3835846e-01,\n",
       "          1.1716844e+00,  4.3334603e+00,  4.6478271e+00, -4.8202195e+00,\n",
       "          1.0396323e+00, -1.3742703e+00, -2.7777855e+00,  1.4959576e+00,\n",
       "         -7.2086442e-01,  1.6240185e+00,  1.9764553e+00, -5.5142236e-01,\n",
       "          5.0609672e-01, -3.1292391e+00, -1.5164583e+00,  5.8637767e+00,\n",
       "          5.7098883e-01,  1.5271458e-01, -1.2406701e+00, -1.6249883e+00,\n",
       "         -5.9789171e+00, -2.8993649e+00, -4.6151681e+00,  8.0358565e-01],\n",
       "        [-4.4698733e-01,  2.4159479e+00, -1.9279202e+00, -1.7833853e+00,\n",
       "         -3.6247972e-01,  1.9583540e-01, -1.5362695e-01, -4.5065811e-01,\n",
       "          6.7906046e-01,  2.0086842e+00, -8.0814731e-01, -4.8084345e-01,\n",
       "         -1.3053696e+00,  2.4975653e+00,  1.4339471e+00,  5.6840426e-01,\n",
       "         -3.1755495e-01,  5.2670455e-01,  4.2315650e+00,  2.8506372e+00,\n",
       "         -2.0306662e-01,  1.4500589e+00, -1.6277881e+00, -2.9647529e+00,\n",
       "          7.0434022e-01,  1.1250874e+00,  2.8667648e+00,  1.2128433e+00,\n",
       "         -3.8416952e-01,  3.7075231e+00, -7.0611411e-01,  2.8999949e+00,\n",
       "         -2.3579140e+00,  2.4178424e+00,  2.0449202e+00, -3.3548880e-01,\n",
       "          8.9638382e-01, -7.6783329e-01,  1.5993686e-01, -4.6720999e-01,\n",
       "         -1.2585053e+00,  1.5246341e+00,  5.7810670e-01, -6.6592431e-01,\n",
       "         -1.2181420e+00,  7.5646317e-01,  5.8156371e+00, -2.8994582e+00,\n",
       "          1.3316817e+00,  1.0560172e+00,  7.9388475e-01,  1.0781548e+00,\n",
       "         -1.7965474e+00, -2.5922842e+00,  2.0088615e-01, -9.6086860e-01,\n",
       "         -1.2653191e+00, -1.0277382e+00,  2.1039021e+00, -4.7318727e-02],\n",
       "        [ 3.3578584e+00,  8.4547100e+00, -3.4338093e+00,  3.7665245e-01,\n",
       "         -2.1751938e+00,  2.4827422e-01, -1.9046777e+00, -3.2297053e+00,\n",
       "          1.1681560e+00,  2.5721211e+00, -3.2341127e+00, -1.2530285e+00,\n",
       "          2.5611000e+00, -1.0528493e+00,  2.0080662e+00,  3.1020020e-03,\n",
       "         -6.3887062e+00,  5.5418334e+00, -2.1606293e+00,  2.3123114e+00,\n",
       "         -3.3706739e+00, -1.5297612e+00, -1.7106479e+00,  3.1951239e+00,\n",
       "         -2.8549900e+00,  4.9332213e+00,  5.4302421e+00, -1.3979313e-01,\n",
       "         -9.0069342e-01,  5.0752568e+00, -2.7386718e+00,  4.2888217e+00,\n",
       "          1.5734112e+00, -8.1584942e-01, -6.1215477e+00,  1.4803375e+00,\n",
       "         -3.6213725e+00, -3.7004590e+00, -6.7804259e-01, -4.7225046e+00,\n",
       "          6.5074573e+00,  2.1848004e+00,  2.5403018e+00, -3.9894223e-01,\n",
       "         -3.7236586e+00, -1.6973727e+00, -9.9249735e-02,  8.9614040e-01,\n",
       "          1.6044328e+00,  1.4354273e+00,  4.4778752e+00,  1.7724361e+00,\n",
       "         -5.9184802e-01,  3.9364915e+00,  9.4195294e-01, -2.2837479e+00,\n",
       "         -7.1880202e+00,  9.6069610e-01, -3.3342245e+00,  3.9393601e+00],\n",
       "        [-6.2863970e+00, -3.8867733e+00, -2.9219031e+00,  2.0192254e+00,\n",
       "          3.5660012e+00,  2.5369516e-01,  3.5869274e+00,  1.4613913e-01,\n",
       "          2.9356780e+00, -2.7898593e+00,  3.0104477e+00,  1.3423252e+00,\n",
       "          3.5068290e+00,  5.0203404e+00, -2.2756557e+00,  9.0053087e-01,\n",
       "          4.4749751e+00, -5.8898563e+00,  6.9451437e+00, -4.6014304e+00,\n",
       "         -1.7482230e-01, -6.6386543e-02,  2.6528988e+00, -2.1944032e+00,\n",
       "          7.1615654e-01, -8.2160749e+00, -1.4637891e+00,  1.2339519e+00,\n",
       "          2.8586998e+00, -2.5854974e+00,  8.3963746e-01,  5.2599615e-01,\n",
       "          1.7539009e+00,  5.6031733e+00,  3.9369657e+00, -1.4865297e+00,\n",
       "          1.4322681e+00,  6.4700928e+00,  4.1449442e+00,  3.5294335e+00,\n",
       "         -1.6302513e+00, -2.0788226e+00,  1.5756223e+00,  5.5799049e-01,\n",
       "          1.1977290e+00,  1.6420320e+00,  5.6972537e+00, -2.8372359e+00,\n",
       "          2.4450848e+00, -3.2786009e+00, -4.5919538e+00, -3.2711375e+00,\n",
       "         -1.9641277e+00, -3.7755024e+00,  1.2545469e+00,  1.1203820e+00,\n",
       "          3.0489831e+00,  2.5370424e+00,  1.5321760e+00,  4.9541277e-01],\n",
       "        [-1.6778794e-01,  1.0526346e+00, -2.0243478e+00,  9.1473186e-01,\n",
       "          2.8419523e+00,  9.3908346e-01, -2.2027709e+00, -1.5601923e+00,\n",
       "          1.0561177e+00,  3.1885916e-01, -4.6178696e-01, -3.8410761e+00,\n",
       "         -2.4323924e+00, -1.0499504e+00, -1.5784601e+00,  6.6936213e-01,\n",
       "         -2.9993659e-01, -1.0027395e+00, -1.4382445e+00,  2.2807740e-01,\n",
       "         -2.2687826e+00,  3.8467658e-01,  2.0480859e+00, -2.9154816e+00,\n",
       "         -2.1051786e+00,  2.9198008e+00,  3.0449325e-01,  1.8987209e+00,\n",
       "          2.7104795e-02,  2.1014450e+00, -6.8851089e-01,  5.3437775e-01,\n",
       "          1.3362480e+00,  8.1726635e-01, -1.9416789e+00, -5.9588522e-01,\n",
       "         -3.8779446e-01,  4.1303763e+00,  2.3393695e+00,  2.7183223e-01,\n",
       "          7.8582919e-01, -8.3041424e-01,  1.9222640e+00, -1.9132249e+00,\n",
       "         -7.6359057e-01, -8.8867404e-02,  3.6222913e+00, -8.6671865e-01,\n",
       "          2.3573830e+00, -2.9775429e+00,  2.7903764e+00,  1.7429160e+00,\n",
       "          1.9001456e+00, -2.7276089e+00,  2.6105390e+00, -4.1226568e+00,\n",
       "         -2.1461506e+00, -8.4521747e-01, -4.3714094e+00,  1.2612951e+00],\n",
       "        [-4.6506485e-01,  1.6616356e-01, -1.8655584e+00,  1.5834422e+00,\n",
       "          3.4055293e+00, -2.1080027e+00,  3.9723091e+00,  9.5496333e-01,\n",
       "         -1.3808591e+00,  7.3138344e-01, -3.3816769e+00, -3.8887203e-01,\n",
       "         -4.4349122e+00,  2.2689135e+00,  4.9319416e-01, -2.2035198e+00,\n",
       "         -4.4298716e+00,  2.5053759e+00,  3.2023957e+00, -1.9267058e+00,\n",
       "         -4.8503239e-02, -2.4415362e+00,  3.1481204e+00, -2.7017574e+00,\n",
       "         -9.5860207e-01, -3.8397365e+00, -1.9187405e+00, -3.4189782e+00,\n",
       "         -2.1767087e+00, -2.5137588e-02, -3.9041517e+00,  3.9145652e-02,\n",
       "          7.8133506e-01,  3.8044050e+00, -2.6798890e+00, -5.0409093e+00,\n",
       "         -5.0158224e+00, -6.0777969e+00, -3.3479306e-01, -2.0750058e+00,\n",
       "         -2.0525017e+00,  7.8774184e-01,  9.2125899e-01,  2.1537693e+00,\n",
       "          1.1705039e+00, -2.8599656e-01,  3.7996821e+00, -3.6172774e+00,\n",
       "          3.1410494e+00,  2.0008491e-01, -7.3706686e-01,  2.0169854e+00,\n",
       "          2.0947244e+00,  1.6044520e+00,  5.4054570e+00, -1.7820301e+00,\n",
       "          2.4800806e+00, -2.6838269e+00, -2.6454308e+00, -1.6765602e+00],\n",
       "        [-2.6168983e+00,  1.0251293e+00,  1.8787143e+00, -5.5261683e-01,\n",
       "          1.7629608e+00,  1.3649901e+00, -1.4084350e+00, -7.4687755e-01,\n",
       "          1.8925357e+00,  1.0174044e+00, -1.7252216e+00, -5.5037689e-01,\n",
       "         -6.1962950e-01, -4.8731357e-01,  1.4604957e+00,  7.1395481e-01,\n",
       "          1.1384658e+00,  8.3246994e-01,  9.7835588e-01,  1.6239009e+00,\n",
       "         -1.1028585e+00,  3.6034534e+00,  1.6170466e+00, -3.9367833e+00,\n",
       "          1.4662699e+00,  1.6980813e+00, -6.8386519e-01, -1.9379556e-01,\n",
       "         -1.9360015e-01,  1.2902963e+00, -4.1284263e-01,  1.7128408e+00,\n",
       "          7.2183895e-01,  3.1874516e+00, -2.0223290e-01,  7.0153546e-01,\n",
       "          7.0820433e-01,  2.8835673e+00,  6.7961717e-01,  1.2895647e+00,\n",
       "          2.0555296e+00,  1.0138088e+00,  6.6807330e-01, -3.9055536e+00,\n",
       "          2.1116340e+00,  1.3895904e+00,  2.8725197e+00, -2.1847203e+00,\n",
       "          4.1525835e-01,  1.0487833e+00,  1.4671957e+00,  4.3892518e-01,\n",
       "         -2.2682235e+00, -1.6963647e-01, -5.8108127e-01, -3.7122459e+00,\n",
       "         -1.5056021e+00, -3.2354836e+00,  6.0096490e-01, -1.8648638e+00],\n",
       "        [ 1.4482822e+00, -8.6120200e-01,  1.3147128e+00,  4.1582446e+00,\n",
       "          2.9846365e+00,  2.2754786e+00,  2.2731700e+00, -7.9343337e-01,\n",
       "          1.4105380e+00, -1.4929278e+00, -1.3386869e+00,  3.7733134e-02,\n",
       "          7.2492832e-01,  3.3922622e-01,  1.3206363e+00, -1.3390046e+00,\n",
       "          6.0672903e-01, -5.2638792e-02, -1.7175733e+00, -2.2167897e+00,\n",
       "          2.1615796e+00, -1.8965690e+00,  2.5431089e+00, -3.2240937e+00,\n",
       "          2.5269573e+00, -2.0721374e+00,  1.7836022e+00,  2.8391700e+00,\n",
       "         -2.0870607e+00,  2.5120330e+00, -2.2205153e+00,  2.4610960e+00,\n",
       "         -2.6966271e+00,  3.5256817e+00, -5.5855310e-01,  2.1128001e+00,\n",
       "         -4.1488808e-01,  1.0406131e+00,  4.2152682e-01,  1.3774325e+00,\n",
       "         -3.0949810e+00, -1.5839828e+00, -1.9408436e+00,  2.8921723e-01,\n",
       "         -1.9317013e+00, -1.5611000e+00,  2.1135767e+00,  2.1695809e+00,\n",
       "         -1.2647097e+00,  3.7742264e+00,  1.6451342e+00,  1.4687456e+00,\n",
       "         -1.1893778e+00,  1.9120345e+00, -1.3594847e+00,  2.4550830e-01,\n",
       "         -6.0671830e-01, -2.3861992e+00, -2.6484468e+00,  5.7002646e-01]]],\n",
       "      dtype=float32)"
      ]
     },
     "execution_count": 437,
     "metadata": {},
     "output_type": "execute_result"
    }
   ],
   "source": [
    "sentence_dummy.reshape(1,10,60)"
   ]
  },
  {
   "cell_type": "code",
   "execution_count": 431,
   "id": "e84865f3",
   "metadata": {},
   "outputs": [
    {
     "data": {
      "text/html": [
       "<div>\n",
       "<style scoped>\n",
       "    .dataframe tbody tr th:only-of-type {\n",
       "        vertical-align: middle;\n",
       "    }\n",
       "\n",
       "    .dataframe tbody tr th {\n",
       "        vertical-align: top;\n",
       "    }\n",
       "\n",
       "    .dataframe thead th {\n",
       "        text-align: right;\n",
       "    }\n",
       "</style>\n",
       "<table border=\"1\" class=\"dataframe\">\n",
       "  <thead>\n",
       "    <tr style=\"text-align: right;\">\n",
       "      <th></th>\n",
       "      <th>country</th>\n",
       "      <th>points</th>\n",
       "      <th>description</th>\n",
       "    </tr>\n",
       "  </thead>\n",
       "  <tbody>\n",
       "  </tbody>\n",
       "</table>\n",
       "</div>"
      ],
      "text/plain": [
       "Empty DataFrame\n",
       "Columns: [country, points, description]\n",
       "Index: []"
      ]
     },
     "execution_count": 431,
     "metadata": {},
     "output_type": "execute_result"
    }
   ],
   "source": [
    "data[(data['country'] == 'England') & (data['points'] == 'bad')]"
   ]
  },
  {
   "cell_type": "code",
   "execution_count": 427,
   "id": "647518a5",
   "metadata": {},
   "outputs": [
    {
     "data": {
      "text/plain": [
       "array([[0., 0., 0., 0., 0., 0., 0., 0., 0., 0., 0., 0., 0., 0., 1., 0.,\n",
       "        0., 0., 0., 0., 0., 0., 0., 0., 0., 0., 0., 0., 0., 0., 0., 0.,\n",
       "        0., 0., 0., 0., 0., 0., 0., 0., 0., 0., 0., 0., 0., 0., 1.]])"
      ]
     },
     "execution_count": 427,
     "metadata": {},
     "output_type": "execute_result"
    }
   ],
   "source": [
    "country_OHE[4073].reshape(1,47)"
   ]
  },
  {
   "cell_type": "code",
   "execution_count": 433,
   "id": "042cba48",
   "metadata": {},
   "outputs": [],
   "source": [
    "bad_arr = np.array([[0., 0., 0., 0., 0., 0., 0., 0., 0., 0., 0., 0., 0., 0., 1., 0.,\n",
    "        0., 0., 0., 0., 0., 0., 0., 0., 0., 0., 0., 0., 0., 0., 0., 0.,\n",
    "        0., 0., 0., 0., 0., 0., 0., 0., 0., 0., 0., 0., 1., 0., 0.]])"
   ]
  },
  {
   "cell_type": "code",
   "execution_count": 440,
   "id": "78dbefbe",
   "metadata": {},
   "outputs": [],
   "source": [
    "exe_arr = np.array([[0., 0., 0., 0., 0., 0., 0., 0., 0., 0., 0., 0., 0., 0., 1., 0.,\n",
    "        0., 0., 0., 0., 0., 0., 0., 0., 0., 0., 0., 0., 0., 0., 0., 0.,\n",
    "        0., 0., 0., 0., 0., 0., 0., 0., 0., 0., 0., 0., 0., 1., 0.]])"
   ]
  },
  {
   "cell_type": "code",
   "execution_count": 446,
   "id": "8709c310",
   "metadata": {},
   "outputs": [],
   "source": [
    "good_arr = np.array([[0., 0., 0., 0., 0., 0., 0., 0., 0., 0., 0., 0., 0., 0., 1., 0.,\n",
    "        0., 0., 0., 0., 0., 0., 0., 0., 0., 0., 0., 0., 0., 0., 0., 0.,\n",
    "        0., 0., 0., 0., 0., 0., 0., 0., 0., 0., 0., 0., 0., 0., 1.]])"
   ]
  },
  {
   "cell_type": "code",
   "execution_count": 451,
   "id": "27d0bcd5",
   "metadata": {},
   "outputs": [
    {
     "name": "stdout",
     "output_type": "stream",
     "text": [
      "1/1 [==============================] - 0s 36ms/step\n"
     ]
    }
   ],
   "source": [
    "pred = model.predict([sentence_dummy.reshape(1,10,60),exe_arr.reshape(1,47)])"
   ]
  },
  {
   "cell_type": "code",
   "execution_count": 411,
   "id": "3298242d",
   "metadata": {},
   "outputs": [
    {
     "data": {
      "text/plain": [
       "(1, 90, 60)"
      ]
     },
     "execution_count": 411,
     "metadata": {},
     "output_type": "execute_result"
    }
   ],
   "source": [
    "pred.shape"
   ]
  },
  {
   "cell_type": "code",
   "execution_count": 453,
   "id": "1c0e0d93",
   "metadata": {},
   "outputs": [
    {
     "data": {
      "text/plain": [
       "['quince',\n",
       " 'quince',\n",
       " 'quince',\n",
       " 'quince',\n",
       " 'the',\n",
       " 'rounded',\n",
       " 'the',\n",
       " 'the',\n",
       " 'ripe',\n",
       " 'the',\n",
       " 'the',\n",
       " 'that',\n",
       " 'it',\n",
       " 'the',\n",
       " 'the',\n",
       " 'the',\n",
       " 'crisp',\n",
       " 'the',\n",
       " 'the',\n",
       " 'the',\n",
       " 'lively',\n",
       " 'freshness',\n",
       " 'fresh',\n",
       " 'crisp',\n",
       " 'freshness',\n",
       " 'freshness',\n",
       " 'its',\n",
       " 'still',\n",
       " 'it',\n",
       " 'ample',\n",
       " 'that',\n",
       " 'structure',\n",
       " 'balanced',\n",
       " 'age',\n",
       " 'leaving',\n",
       " 'more',\n",
       " 'age',\n",
       " 'hold',\n",
       " 'lemon',\n",
       " 'on',\n",
       " 'finish',\n",
       " 'finish',\n",
       " 'you',\n",
       " 'with',\n",
       " 'its',\n",
       " 'drink',\n",
       " 'invigorating',\n",
       " 'nature',\n",
       " 'drink',\n",
       " '2017–2027',\n",
       " 'neighbor',\n",
       " 'at',\n",
       " 'least',\n",
       " \"syrah's\",\n",
       " 'washington',\n",
       " 'commercial',\n",
       " 'drink',\n",
       " 'cortona',\n",
       " 'you']"
      ]
     },
     "execution_count": 453,
     "metadata": {},
     "output_type": "execute_result"
    }
   ],
   "source": [
    "full_string = []\n",
    "\n",
    "for x in range(90):\n",
    "    word = word2vec.wv.most_similar(pred[0,x,:],topn=1)\n",
    "    full_string.append(word)\n",
    "\n",
    "final_string = []\n",
    "    \n",
    "for i in [x[0][0] for x in full_string]:\n",
    "    if i != 'and':\n",
    "        final_string.append(i)\n",
    "\n",
    "final_string"
   ]
  }
 ],
 "metadata": {
  "kernelspec": {
   "display_name": "Python 3 (ipykernel)",
   "language": "python",
   "name": "python3"
  },
  "language_info": {
   "codemirror_mode": {
    "name": "ipython",
    "version": 3
   },
   "file_extension": ".py",
   "mimetype": "text/x-python",
   "name": "python",
   "nbconvert_exporter": "python",
   "pygments_lexer": "ipython3",
   "version": "3.10.6"
  },
  "toc": {
   "base_numbering": 1,
   "nav_menu": {},
   "number_sections": true,
   "sideBar": true,
   "skip_h1_title": false,
   "title_cell": "Table of Contents",
   "title_sidebar": "Contents",
   "toc_cell": false,
   "toc_position": {},
   "toc_section_display": true,
   "toc_window_display": false
  }
 },
 "nbformat": 4,
 "nbformat_minor": 5
}
