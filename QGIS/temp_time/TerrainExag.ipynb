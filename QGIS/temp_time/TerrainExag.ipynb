{
 "cells": [
  {
   "cell_type": "code",
   "execution_count": 2,
   "id": "4b6a355d",
   "metadata": {},
   "outputs": [],
   "source": [
    "import pandas as pd\n",
    "data = pd.read_csv('../better_sheff_merge.csv')"
   ]
  },
  {
   "cell_type": "code",
   "execution_count": 5,
   "id": "12bca0e1",
   "metadata": {},
   "outputs": [],
   "source": [
    "data['z'] = data['z'].apply(lambda x: 7*x)"
   ]
  },
  {
   "cell_type": "code",
   "execution_count": 6,
   "id": "6b0142a3",
   "metadata": {},
   "outputs": [
    {
     "data": {
      "text/html": [
       "<div>\n",
       "<style scoped>\n",
       "    .dataframe tbody tr th:only-of-type {\n",
       "        vertical-align: middle;\n",
       "    }\n",
       "\n",
       "    .dataframe tbody tr th {\n",
       "        vertical-align: top;\n",
       "    }\n",
       "\n",
       "    .dataframe thead th {\n",
       "        text-align: right;\n",
       "    }\n",
       "</style>\n",
       "<table border=\"1\" class=\"dataframe\">\n",
       "  <thead>\n",
       "    <tr style=\"text-align: right;\">\n",
       "      <th></th>\n",
       "      <th>x</th>\n",
       "      <th>y</th>\n",
       "      <th>z</th>\n",
       "    </tr>\n",
       "  </thead>\n",
       "  <tbody>\n",
       "    <tr>\n",
       "      <th>0</th>\n",
       "      <td>-184878.203</td>\n",
       "      <td>7089520.381</td>\n",
       "      <td>1197</td>\n",
       "    </tr>\n",
       "    <tr>\n",
       "      <th>1</th>\n",
       "      <td>-184836.846</td>\n",
       "      <td>7089520.381</td>\n",
       "      <td>1211</td>\n",
       "    </tr>\n",
       "    <tr>\n",
       "      <th>2</th>\n",
       "      <td>-184795.490</td>\n",
       "      <td>7089520.381</td>\n",
       "      <td>1204</td>\n",
       "    </tr>\n",
       "    <tr>\n",
       "      <th>3</th>\n",
       "      <td>-184754.133</td>\n",
       "      <td>7089520.381</td>\n",
       "      <td>1162</td>\n",
       "    </tr>\n",
       "    <tr>\n",
       "      <th>4</th>\n",
       "      <td>-184712.777</td>\n",
       "      <td>7089520.381</td>\n",
       "      <td>1148</td>\n",
       "    </tr>\n",
       "    <tr>\n",
       "      <th>...</th>\n",
       "      <td>...</td>\n",
       "      <td>...</td>\n",
       "      <td>...</td>\n",
       "    </tr>\n",
       "    <tr>\n",
       "      <th>1816037</th>\n",
       "      <td>-141495.286</td>\n",
       "      <td>7018334.906</td>\n",
       "      <td>1211</td>\n",
       "    </tr>\n",
       "    <tr>\n",
       "      <th>1816038</th>\n",
       "      <td>-141453.929</td>\n",
       "      <td>7018334.906</td>\n",
       "      <td>1204</td>\n",
       "    </tr>\n",
       "    <tr>\n",
       "      <th>1816039</th>\n",
       "      <td>-141412.573</td>\n",
       "      <td>7018334.906</td>\n",
       "      <td>1204</td>\n",
       "    </tr>\n",
       "    <tr>\n",
       "      <th>1816040</th>\n",
       "      <td>-141371.216</td>\n",
       "      <td>7018334.906</td>\n",
       "      <td>1204</td>\n",
       "    </tr>\n",
       "    <tr>\n",
       "      <th>1816041</th>\n",
       "      <td>-141329.860</td>\n",
       "      <td>7018334.906</td>\n",
       "      <td>1204</td>\n",
       "    </tr>\n",
       "  </tbody>\n",
       "</table>\n",
       "<p>1816042 rows × 3 columns</p>\n",
       "</div>"
      ],
      "text/plain": [
       "                  x            y     z\n",
       "0       -184878.203  7089520.381  1197\n",
       "1       -184836.846  7089520.381  1211\n",
       "2       -184795.490  7089520.381  1204\n",
       "3       -184754.133  7089520.381  1162\n",
       "4       -184712.777  7089520.381  1148\n",
       "...             ...          ...   ...\n",
       "1816037 -141495.286  7018334.906  1211\n",
       "1816038 -141453.929  7018334.906  1204\n",
       "1816039 -141412.573  7018334.906  1204\n",
       "1816040 -141371.216  7018334.906  1204\n",
       "1816041 -141329.860  7018334.906  1204\n",
       "\n",
       "[1816042 rows x 3 columns]"
      ]
     },
     "execution_count": 6,
     "metadata": {},
     "output_type": "execute_result"
    }
   ],
   "source": [
    "data"
   ]
  },
  {
   "cell_type": "code",
   "execution_count": null,
   "id": "276a7370",
   "metadata": {},
   "outputs": [],
   "source": []
  }
 ],
 "metadata": {
  "kernelspec": {
   "display_name": "Python 3 (ipykernel)",
   "language": "python",
   "name": "python3"
  },
  "language_info": {
   "codemirror_mode": {
    "name": "ipython",
    "version": 3
   },
   "file_extension": ".py",
   "mimetype": "text/x-python",
   "name": "python",
   "nbconvert_exporter": "python",
   "pygments_lexer": "ipython3",
   "version": "3.10.6"
  },
  "toc": {
   "base_numbering": 1,
   "nav_menu": {},
   "number_sections": true,
   "sideBar": true,
   "skip_h1_title": false,
   "title_cell": "Table of Contents",
   "title_sidebar": "Contents",
   "toc_cell": false,
   "toc_position": {},
   "toc_section_display": true,
   "toc_window_display": false
  }
 },
 "nbformat": 4,
 "nbformat_minor": 5
}
