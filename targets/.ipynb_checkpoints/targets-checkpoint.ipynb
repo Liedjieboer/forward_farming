{
 "cells": [
  {
   "cell_type": "code",
   "execution_count": 1,
   "id": "e6676b67",
   "metadata": {},
   "outputs": [],
   "source": [
    "import pandas as pd\n",
    "\n",
    "path = \"/Users/nico_marais/Downloads/Reims climate data.csv\"\n",
    "\n",
    "df_rheims = pd.read_csv(path)"
   ]
  },
  {
   "cell_type": "code",
   "execution_count": 2,
   "id": "6a370684",
   "metadata": {},
   "outputs": [
    {
     "data": {
      "text/html": [
       "<div>\n",
       "<style scoped>\n",
       "    .dataframe tbody tr th:only-of-type {\n",
       "        vertical-align: middle;\n",
       "    }\n",
       "\n",
       "    .dataframe tbody tr th {\n",
       "        vertical-align: top;\n",
       "    }\n",
       "\n",
       "    .dataframe thead th {\n",
       "        text-align: right;\n",
       "    }\n",
       "</style>\n",
       "<table border=\"1\" class=\"dataframe\">\n",
       "  <thead>\n",
       "    <tr style=\"text-align: right;\">\n",
       "      <th></th>\n",
       "      <th>STATION</th>\n",
       "      <th>DATE</th>\n",
       "      <th>LATITUDE</th>\n",
       "      <th>LONGITUDE</th>\n",
       "      <th>ELEVATION</th>\n",
       "      <th>NAME</th>\n",
       "      <th>CDSD</th>\n",
       "      <th>CDSD_ATTRIBUTES</th>\n",
       "      <th>CLDD</th>\n",
       "      <th>CLDD_ATTRIBUTES</th>\n",
       "      <th>...</th>\n",
       "      <th>HTDD</th>\n",
       "      <th>HTDD_ATTRIBUTES</th>\n",
       "      <th>PRCP</th>\n",
       "      <th>PRCP_ATTRIBUTES</th>\n",
       "      <th>TAVG</th>\n",
       "      <th>TAVG_ATTRIBUTES</th>\n",
       "      <th>TMAX</th>\n",
       "      <th>TMAX_ATTRIBUTES</th>\n",
       "      <th>TMIN</th>\n",
       "      <th>TMIN_ATTRIBUTES</th>\n",
       "    </tr>\n",
       "  </thead>\n",
       "  <tbody>\n",
       "    <tr>\n",
       "      <th>0</th>\n",
       "      <td>FRE00104048</td>\n",
       "      <td>2012-06</td>\n",
       "      <td>49.2094</td>\n",
       "      <td>4.1553</td>\n",
       "      <td>95.0</td>\n",
       "      <td>REIMS PRUNAY, FR</td>\n",
       "      <td>NaN</td>\n",
       "      <td>NaN</td>\n",
       "      <td>6.6</td>\n",
       "      <td>,E</td>\n",
       "      <td>...</td>\n",
       "      <td>83.0</td>\n",
       "      <td>,E</td>\n",
       "      <td>100.7</td>\n",
       "      <td>,,,E</td>\n",
       "      <td>15.79</td>\n",
       "      <td>,E</td>\n",
       "      <td>20.98</td>\n",
       "      <td>,,,E</td>\n",
       "      <td>10.60</td>\n",
       "      <td>,,,E</td>\n",
       "    </tr>\n",
       "    <tr>\n",
       "      <th>1</th>\n",
       "      <td>FRE00104048</td>\n",
       "      <td>2012-07</td>\n",
       "      <td>49.2094</td>\n",
       "      <td>4.1553</td>\n",
       "      <td>95.0</td>\n",
       "      <td>REIMS PRUNAY, FR</td>\n",
       "      <td>NaN</td>\n",
       "      <td>NaN</td>\n",
       "      <td>24.3</td>\n",
       "      <td>,E</td>\n",
       "      <td>...</td>\n",
       "      <td>46.7</td>\n",
       "      <td>,E</td>\n",
       "      <td>88.2</td>\n",
       "      <td>,,,E</td>\n",
       "      <td>17.61</td>\n",
       "      <td>,E</td>\n",
       "      <td>23.24</td>\n",
       "      <td>,,,E</td>\n",
       "      <td>11.98</td>\n",
       "      <td>,,,E</td>\n",
       "    </tr>\n",
       "    <tr>\n",
       "      <th>2</th>\n",
       "      <td>FRE00104048</td>\n",
       "      <td>2012-08</td>\n",
       "      <td>49.2094</td>\n",
       "      <td>4.1553</td>\n",
       "      <td>95.0</td>\n",
       "      <td>REIMS PRUNAY, FR</td>\n",
       "      <td>NaN</td>\n",
       "      <td>NaN</td>\n",
       "      <td>43.4</td>\n",
       "      <td>,E</td>\n",
       "      <td>...</td>\n",
       "      <td>18.2</td>\n",
       "      <td>,E</td>\n",
       "      <td>16.7</td>\n",
       "      <td>,,,E</td>\n",
       "      <td>19.15</td>\n",
       "      <td>,E</td>\n",
       "      <td>26.13</td>\n",
       "      <td>,,,E</td>\n",
       "      <td>12.16</td>\n",
       "      <td>,,,E</td>\n",
       "    </tr>\n",
       "    <tr>\n",
       "      <th>3</th>\n",
       "      <td>FRE00104048</td>\n",
       "      <td>2012-09</td>\n",
       "      <td>49.2094</td>\n",
       "      <td>4.1553</td>\n",
       "      <td>95.0</td>\n",
       "      <td>REIMS PRUNAY, FR</td>\n",
       "      <td>NaN</td>\n",
       "      <td>NaN</td>\n",
       "      <td>2.1</td>\n",
       "      <td>,E</td>\n",
       "      <td>...</td>\n",
       "      <td>126.1</td>\n",
       "      <td>,E</td>\n",
       "      <td>47.7</td>\n",
       "      <td>,,,E</td>\n",
       "      <td>14.20</td>\n",
       "      <td>,E</td>\n",
       "      <td>20.71</td>\n",
       "      <td>,,,E</td>\n",
       "      <td>7.70</td>\n",
       "      <td>,,,E</td>\n",
       "    </tr>\n",
       "    <tr>\n",
       "      <th>4</th>\n",
       "      <td>FRE00104048</td>\n",
       "      <td>2012-10</td>\n",
       "      <td>49.2094</td>\n",
       "      <td>4.1553</td>\n",
       "      <td>95.0</td>\n",
       "      <td>REIMS PRUNAY, FR</td>\n",
       "      <td>NaN</td>\n",
       "      <td>NaN</td>\n",
       "      <td>0.5</td>\n",
       "      <td>,E</td>\n",
       "      <td>...</td>\n",
       "      <td>215.1</td>\n",
       "      <td>,E</td>\n",
       "      <td>48.8</td>\n",
       "      <td>,,,E</td>\n",
       "      <td>11.41</td>\n",
       "      <td>,E</td>\n",
       "      <td>15.61</td>\n",
       "      <td>,,,E</td>\n",
       "      <td>7.21</td>\n",
       "      <td>,,,E</td>\n",
       "    </tr>\n",
       "  </tbody>\n",
       "</table>\n",
       "<p>5 rows × 44 columns</p>\n",
       "</div>"
      ],
      "text/plain": [
       "       STATION     DATE  LATITUDE  LONGITUDE  ELEVATION              NAME  \\\n",
       "0  FRE00104048  2012-06   49.2094     4.1553       95.0  REIMS PRUNAY, FR   \n",
       "1  FRE00104048  2012-07   49.2094     4.1553       95.0  REIMS PRUNAY, FR   \n",
       "2  FRE00104048  2012-08   49.2094     4.1553       95.0  REIMS PRUNAY, FR   \n",
       "3  FRE00104048  2012-09   49.2094     4.1553       95.0  REIMS PRUNAY, FR   \n",
       "4  FRE00104048  2012-10   49.2094     4.1553       95.0  REIMS PRUNAY, FR   \n",
       "\n",
       "   CDSD CDSD_ATTRIBUTES  CLDD CLDD_ATTRIBUTES  ...   HTDD HTDD_ATTRIBUTES  \\\n",
       "0   NaN             NaN   6.6              ,E  ...   83.0              ,E   \n",
       "1   NaN             NaN  24.3              ,E  ...   46.7              ,E   \n",
       "2   NaN             NaN  43.4              ,E  ...   18.2              ,E   \n",
       "3   NaN             NaN   2.1              ,E  ...  126.1              ,E   \n",
       "4   NaN             NaN   0.5              ,E  ...  215.1              ,E   \n",
       "\n",
       "    PRCP PRCP_ATTRIBUTES   TAVG TAVG_ATTRIBUTES   TMAX TMAX_ATTRIBUTES   TMIN  \\\n",
       "0  100.7            ,,,E  15.79              ,E  20.98            ,,,E  10.60   \n",
       "1   88.2            ,,,E  17.61              ,E  23.24            ,,,E  11.98   \n",
       "2   16.7            ,,,E  19.15              ,E  26.13            ,,,E  12.16   \n",
       "3   47.7            ,,,E  14.20              ,E  20.71            ,,,E   7.70   \n",
       "4   48.8            ,,,E  11.41              ,E  15.61            ,,,E   7.21   \n",
       "\n",
       "  TMIN_ATTRIBUTES  \n",
       "0            ,,,E  \n",
       "1            ,,,E  \n",
       "2            ,,,E  \n",
       "3            ,,,E  \n",
       "4            ,,,E  \n",
       "\n",
       "[5 rows x 44 columns]"
      ]
     },
     "execution_count": 2,
     "metadata": {},
     "output_type": "execute_result"
    }
   ],
   "source": [
    "df_rheims.head()"
   ]
  },
  {
   "cell_type": "code",
   "execution_count": 3,
   "id": "dfba4fff",
   "metadata": {},
   "outputs": [],
   "source": [
    "avg_max_temp = df_rheims['TMAX'].mean()"
   ]
  },
  {
   "cell_type": "code",
   "execution_count": 8,
   "id": "427541c7",
   "metadata": {},
   "outputs": [
    {
     "data": {
      "text/plain": [
       "16.787777777777777"
      ]
     },
     "execution_count": 8,
     "metadata": {},
     "output_type": "execute_result"
    }
   ],
   "source": [
    "avg_max_temp"
   ]
  },
  {
   "cell_type": "code",
   "execution_count": 5,
   "id": "9bbb08ea",
   "metadata": {},
   "outputs": [
    {
     "data": {
      "text/plain": [
       "6.252718446601943"
      ]
     },
     "execution_count": 5,
     "metadata": {},
     "output_type": "execute_result"
    }
   ],
   "source": [
    "avg_min_temp = df_rheims['TMIN'].mean()\n",
    "avg_min_temp"
   ]
  },
  {
   "cell_type": "code",
   "execution_count": 6,
   "id": "08dca3ec",
   "metadata": {},
   "outputs": [],
   "source": [
    "avg_precipitation = df_rheims['PRCP'].mean()"
   ]
  },
  {
   "cell_type": "code",
   "execution_count": 7,
   "id": "3d913a3b",
   "metadata": {},
   "outputs": [
    {
     "data": {
      "text/plain": [
       "48.83790322580645"
      ]
     },
     "execution_count": 7,
     "metadata": {},
     "output_type": "execute_result"
    }
   ],
   "source": [
    "avg_precipitation"
   ]
  },
  {
   "cell_type": "code",
   "execution_count": null,
   "id": "36e2327d",
   "metadata": {},
   "outputs": [],
   "source": []
  }
 ],
 "metadata": {
  "kernelspec": {
   "display_name": "Python 3 (ipykernel)",
   "language": "python",
   "name": "python3"
  },
  "language_info": {
   "codemirror_mode": {
    "name": "ipython",
    "version": 3
   },
   "file_extension": ".py",
   "mimetype": "text/x-python",
   "name": "python",
   "nbconvert_exporter": "python",
   "pygments_lexer": "ipython3",
   "version": "3.10.6"
  },
  "toc": {
   "base_numbering": 1,
   "nav_menu": {},
   "number_sections": true,
   "sideBar": true,
   "skip_h1_title": false,
   "title_cell": "Table of Contents",
   "title_sidebar": "Contents",
   "toc_cell": false,
   "toc_position": {},
   "toc_section_display": true,
   "toc_window_display": false
  }
 },
 "nbformat": 4,
 "nbformat_minor": 5
}
