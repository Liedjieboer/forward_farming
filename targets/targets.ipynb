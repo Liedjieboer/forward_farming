{
 "cells": [
  {
   "cell_type": "code",
   "execution_count": 2,
   "id": "e6676b67",
   "metadata": {},
   "outputs": [],
   "source": [
    "import pandas as pd\n",
    "import matplotlib.pyplot as plt\n",
    "\n",
    "path = \"/Users/nico_marais/Downloads/Reims climate data.csv\"\n",
    "\n",
    "df_rheims = pd.read_csv(path)"
   ]
  },
  {
   "cell_type": "code",
   "execution_count": 3,
   "id": "6a370684",
   "metadata": {},
   "outputs": [
    {
     "data": {
      "text/html": [
       "<div>\n",
       "<style scoped>\n",
       "    .dataframe tbody tr th:only-of-type {\n",
       "        vertical-align: middle;\n",
       "    }\n",
       "\n",
       "    .dataframe tbody tr th {\n",
       "        vertical-align: top;\n",
       "    }\n",
       "\n",
       "    .dataframe thead th {\n",
       "        text-align: right;\n",
       "    }\n",
       "</style>\n",
       "<table border=\"1\" class=\"dataframe\">\n",
       "  <thead>\n",
       "    <tr style=\"text-align: right;\">\n",
       "      <th></th>\n",
       "      <th>STATION</th>\n",
       "      <th>DATE</th>\n",
       "      <th>LATITUDE</th>\n",
       "      <th>LONGITUDE</th>\n",
       "      <th>ELEVATION</th>\n",
       "      <th>NAME</th>\n",
       "      <th>CDSD</th>\n",
       "      <th>CDSD_ATTRIBUTES</th>\n",
       "      <th>CLDD</th>\n",
       "      <th>CLDD_ATTRIBUTES</th>\n",
       "      <th>...</th>\n",
       "      <th>HTDD</th>\n",
       "      <th>HTDD_ATTRIBUTES</th>\n",
       "      <th>PRCP</th>\n",
       "      <th>PRCP_ATTRIBUTES</th>\n",
       "      <th>TAVG</th>\n",
       "      <th>TAVG_ATTRIBUTES</th>\n",
       "      <th>TMAX</th>\n",
       "      <th>TMAX_ATTRIBUTES</th>\n",
       "      <th>TMIN</th>\n",
       "      <th>TMIN_ATTRIBUTES</th>\n",
       "    </tr>\n",
       "  </thead>\n",
       "  <tbody>\n",
       "    <tr>\n",
       "      <th>0</th>\n",
       "      <td>FRE00104048</td>\n",
       "      <td>2012-06</td>\n",
       "      <td>49.2094</td>\n",
       "      <td>4.1553</td>\n",
       "      <td>95.0</td>\n",
       "      <td>REIMS PRUNAY, FR</td>\n",
       "      <td>NaN</td>\n",
       "      <td>NaN</td>\n",
       "      <td>6.6</td>\n",
       "      <td>,E</td>\n",
       "      <td>...</td>\n",
       "      <td>83.0</td>\n",
       "      <td>,E</td>\n",
       "      <td>100.7</td>\n",
       "      <td>,,,E</td>\n",
       "      <td>15.79</td>\n",
       "      <td>,E</td>\n",
       "      <td>20.98</td>\n",
       "      <td>,,,E</td>\n",
       "      <td>10.60</td>\n",
       "      <td>,,,E</td>\n",
       "    </tr>\n",
       "    <tr>\n",
       "      <th>1</th>\n",
       "      <td>FRE00104048</td>\n",
       "      <td>2012-07</td>\n",
       "      <td>49.2094</td>\n",
       "      <td>4.1553</td>\n",
       "      <td>95.0</td>\n",
       "      <td>REIMS PRUNAY, FR</td>\n",
       "      <td>NaN</td>\n",
       "      <td>NaN</td>\n",
       "      <td>24.3</td>\n",
       "      <td>,E</td>\n",
       "      <td>...</td>\n",
       "      <td>46.7</td>\n",
       "      <td>,E</td>\n",
       "      <td>88.2</td>\n",
       "      <td>,,,E</td>\n",
       "      <td>17.61</td>\n",
       "      <td>,E</td>\n",
       "      <td>23.24</td>\n",
       "      <td>,,,E</td>\n",
       "      <td>11.98</td>\n",
       "      <td>,,,E</td>\n",
       "    </tr>\n",
       "    <tr>\n",
       "      <th>2</th>\n",
       "      <td>FRE00104048</td>\n",
       "      <td>2012-08</td>\n",
       "      <td>49.2094</td>\n",
       "      <td>4.1553</td>\n",
       "      <td>95.0</td>\n",
       "      <td>REIMS PRUNAY, FR</td>\n",
       "      <td>NaN</td>\n",
       "      <td>NaN</td>\n",
       "      <td>43.4</td>\n",
       "      <td>,E</td>\n",
       "      <td>...</td>\n",
       "      <td>18.2</td>\n",
       "      <td>,E</td>\n",
       "      <td>16.7</td>\n",
       "      <td>,,,E</td>\n",
       "      <td>19.15</td>\n",
       "      <td>,E</td>\n",
       "      <td>26.13</td>\n",
       "      <td>,,,E</td>\n",
       "      <td>12.16</td>\n",
       "      <td>,,,E</td>\n",
       "    </tr>\n",
       "    <tr>\n",
       "      <th>3</th>\n",
       "      <td>FRE00104048</td>\n",
       "      <td>2012-09</td>\n",
       "      <td>49.2094</td>\n",
       "      <td>4.1553</td>\n",
       "      <td>95.0</td>\n",
       "      <td>REIMS PRUNAY, FR</td>\n",
       "      <td>NaN</td>\n",
       "      <td>NaN</td>\n",
       "      <td>2.1</td>\n",
       "      <td>,E</td>\n",
       "      <td>...</td>\n",
       "      <td>126.1</td>\n",
       "      <td>,E</td>\n",
       "      <td>47.7</td>\n",
       "      <td>,,,E</td>\n",
       "      <td>14.20</td>\n",
       "      <td>,E</td>\n",
       "      <td>20.71</td>\n",
       "      <td>,,,E</td>\n",
       "      <td>7.70</td>\n",
       "      <td>,,,E</td>\n",
       "    </tr>\n",
       "    <tr>\n",
       "      <th>4</th>\n",
       "      <td>FRE00104048</td>\n",
       "      <td>2012-10</td>\n",
       "      <td>49.2094</td>\n",
       "      <td>4.1553</td>\n",
       "      <td>95.0</td>\n",
       "      <td>REIMS PRUNAY, FR</td>\n",
       "      <td>NaN</td>\n",
       "      <td>NaN</td>\n",
       "      <td>0.5</td>\n",
       "      <td>,E</td>\n",
       "      <td>...</td>\n",
       "      <td>215.1</td>\n",
       "      <td>,E</td>\n",
       "      <td>48.8</td>\n",
       "      <td>,,,E</td>\n",
       "      <td>11.41</td>\n",
       "      <td>,E</td>\n",
       "      <td>15.61</td>\n",
       "      <td>,,,E</td>\n",
       "      <td>7.21</td>\n",
       "      <td>,,,E</td>\n",
       "    </tr>\n",
       "  </tbody>\n",
       "</table>\n",
       "<p>5 rows × 44 columns</p>\n",
       "</div>"
      ],
      "text/plain": [
       "       STATION     DATE  LATITUDE  LONGITUDE  ELEVATION              NAME  \\\n",
       "0  FRE00104048  2012-06   49.2094     4.1553       95.0  REIMS PRUNAY, FR   \n",
       "1  FRE00104048  2012-07   49.2094     4.1553       95.0  REIMS PRUNAY, FR   \n",
       "2  FRE00104048  2012-08   49.2094     4.1553       95.0  REIMS PRUNAY, FR   \n",
       "3  FRE00104048  2012-09   49.2094     4.1553       95.0  REIMS PRUNAY, FR   \n",
       "4  FRE00104048  2012-10   49.2094     4.1553       95.0  REIMS PRUNAY, FR   \n",
       "\n",
       "   CDSD CDSD_ATTRIBUTES  CLDD CLDD_ATTRIBUTES  ...   HTDD HTDD_ATTRIBUTES  \\\n",
       "0   NaN             NaN   6.6              ,E  ...   83.0              ,E   \n",
       "1   NaN             NaN  24.3              ,E  ...   46.7              ,E   \n",
       "2   NaN             NaN  43.4              ,E  ...   18.2              ,E   \n",
       "3   NaN             NaN   2.1              ,E  ...  126.1              ,E   \n",
       "4   NaN             NaN   0.5              ,E  ...  215.1              ,E   \n",
       "\n",
       "    PRCP PRCP_ATTRIBUTES   TAVG TAVG_ATTRIBUTES   TMAX TMAX_ATTRIBUTES   TMIN  \\\n",
       "0  100.7            ,,,E  15.79              ,E  20.98            ,,,E  10.60   \n",
       "1   88.2            ,,,E  17.61              ,E  23.24            ,,,E  11.98   \n",
       "2   16.7            ,,,E  19.15              ,E  26.13            ,,,E  12.16   \n",
       "3   47.7            ,,,E  14.20              ,E  20.71            ,,,E   7.70   \n",
       "4   48.8            ,,,E  11.41              ,E  15.61            ,,,E   7.21   \n",
       "\n",
       "  TMIN_ATTRIBUTES  \n",
       "0            ,,,E  \n",
       "1            ,,,E  \n",
       "2            ,,,E  \n",
       "3            ,,,E  \n",
       "4            ,,,E  \n",
       "\n",
       "[5 rows x 44 columns]"
      ]
     },
     "execution_count": 3,
     "metadata": {},
     "output_type": "execute_result"
    }
   ],
   "source": [
    "df_rheims.head()"
   ]
  },
  {
   "cell_type": "code",
   "execution_count": 4,
   "id": "dfba4fff",
   "metadata": {},
   "outputs": [],
   "source": [
    "avg_max_temp = df_rheims['TMAX'].mean()"
   ]
  },
  {
   "cell_type": "code",
   "execution_count": 5,
   "id": "427541c7",
   "metadata": {},
   "outputs": [
    {
     "data": {
      "text/plain": [
       "16.787777777777777"
      ]
     },
     "execution_count": 5,
     "metadata": {},
     "output_type": "execute_result"
    }
   ],
   "source": [
    "avg_max_temp"
   ]
  },
  {
   "cell_type": "code",
   "execution_count": 6,
   "id": "9bbb08ea",
   "metadata": {},
   "outputs": [
    {
     "data": {
      "text/plain": [
       "6.252718446601943"
      ]
     },
     "execution_count": 6,
     "metadata": {},
     "output_type": "execute_result"
    }
   ],
   "source": [
    "avg_min_temp = df_rheims['TMIN'].mean()\n",
    "avg_min_temp"
   ]
  },
  {
   "cell_type": "code",
   "execution_count": 7,
   "id": "08dca3ec",
   "metadata": {},
   "outputs": [],
   "source": [
    "avg_precipitation = df_rheims['PRCP'].mean()"
   ]
  },
  {
   "cell_type": "code",
   "execution_count": 8,
   "id": "3d913a3b",
   "metadata": {},
   "outputs": [
    {
     "data": {
      "text/plain": [
       "48.83790322580645"
      ]
     },
     "execution_count": 8,
     "metadata": {},
     "output_type": "execute_result"
    }
   ],
   "source": [
    "avg_precipitation"
   ]
  },
  {
   "cell_type": "code",
   "execution_count": 9,
   "id": "36e2327d",
   "metadata": {},
   "outputs": [
    {
     "data": {
      "text/plain": [
       "0      10.60\n",
       "1      11.98\n",
       "2      12.16\n",
       "3       7.70\n",
       "4       7.21\n",
       "       ...  \n",
       "119      NaN\n",
       "120      NaN\n",
       "121      NaN\n",
       "122      NaN\n",
       "123      NaN\n",
       "Name: TMIN, Length: 124, dtype: float64"
      ]
     },
     "execution_count": 9,
     "metadata": {},
     "output_type": "execute_result"
    }
   ],
   "source": [
    "min_temp = df_rheims['TMIN']\n",
    "min_temp"
   ]
  },
  {
   "cell_type": "code",
   "execution_count": 10,
   "id": "b34240ea",
   "metadata": {},
   "outputs": [
    {
     "data": {
      "text/plain": [
       "[<matplotlib.lines.Line2D at 0x110c13250>]"
      ]
     },
     "execution_count": 10,
     "metadata": {},
     "output_type": "execute_result"
    },
    {
     "data": {
      "image/png": "[encoded data removed]",
      "text/plain": [
       "<Figure size 640x480 with 1 Axes>"
      ]
     },
     "metadata": {},
     "output_type": "display_data"
    }
   ],
   "source": [
    "plt.plot(min_temp)"
   ]
  },
  {
   "cell_type": "code",
   "execution_count": 11,
   "id": "a270dbf1",
   "metadata": {},
   "outputs": [],
   "source": [
    "lst = [\"04\", \"05\"]"
   ]
  },
  {
   "cell_type": "code",
   "execution_count": 12,
   "id": "4d3d95f4",
   "metadata": {},
   "outputs": [
    {
     "data": {
      "text/plain": [
       "5.471875"
      ]
     },
     "execution_count": 12,
     "metadata": {},
     "output_type": "execute_result"
    }
   ],
   "source": [
    "spring_mins_r = df_rheims[df_rheims['DATE'].str[-2:].isin(lst)]['TMIN']\n",
    "spring_mins_r.mean()"
   ]
  },
  {
   "cell_type": "code",
   "execution_count": 13,
   "id": "4a68cfa1",
   "metadata": {},
   "outputs": [
    {
     "data": {
      "text/plain": [
       "[<matplotlib.lines.Line2D at 0x110d7cfd0>]"
      ]
     },
     "execution_count": 13,
     "metadata": {},
     "output_type": "execute_result"
    },
    {
     "data": {
      "image/png": "[encoded data removed]",
      "text/plain": [
       "<Figure size 640x480 with 1 Axes>"
      ]
     },
     "metadata": {},
     "output_type": "display_data"
    }
   ],
   "source": [
    "plt.plot(spring_mins_r)"
   ]
  },
  {
   "cell_type": "code",
   "execution_count": 14,
   "id": "fd71f011",
   "metadata": {},
   "outputs": [
    {
     "data": {
      "text/html": [
       "<div>\n",
       "<style scoped>\n",
       "    .dataframe tbody tr th:only-of-type {\n",
       "        vertical-align: middle;\n",
       "    }\n",
       "\n",
       "    .dataframe tbody tr th {\n",
       "        vertical-align: top;\n",
       "    }\n",
       "\n",
       "    .dataframe thead th {\n",
       "        text-align: right;\n",
       "    }\n",
       "</style>\n",
       "<table border=\"1\" class=\"dataframe\">\n",
       "  <thead>\n",
       "    <tr style=\"text-align: right;\">\n",
       "      <th></th>\n",
       "      <th>STATION</th>\n",
       "      <th>DATE</th>\n",
       "      <th>LATITUDE</th>\n",
       "      <th>LONGITUDE</th>\n",
       "      <th>ELEVATION</th>\n",
       "      <th>NAME</th>\n",
       "      <th>CDSD</th>\n",
       "      <th>CDSD_ATTRIBUTES</th>\n",
       "      <th>CLDD</th>\n",
       "      <th>CLDD_ATTRIBUTES</th>\n",
       "      <th>...</th>\n",
       "      <th>HTDD</th>\n",
       "      <th>HTDD_ATTRIBUTES</th>\n",
       "      <th>PRCP</th>\n",
       "      <th>PRCP_ATTRIBUTES</th>\n",
       "      <th>TAVG</th>\n",
       "      <th>TAVG_ATTRIBUTES</th>\n",
       "      <th>TMAX</th>\n",
       "      <th>TMAX_ATTRIBUTES</th>\n",
       "      <th>TMIN</th>\n",
       "      <th>TMIN_ATTRIBUTES</th>\n",
       "    </tr>\n",
       "  </thead>\n",
       "  <tbody>\n",
       "    <tr>\n",
       "      <th>0</th>\n",
       "      <td>FRE00104048</td>\n",
       "      <td>2012-06</td>\n",
       "      <td>49.2094</td>\n",
       "      <td>4.1553</td>\n",
       "      <td>95.0</td>\n",
       "      <td>REIMS PRUNAY, FR</td>\n",
       "      <td>NaN</td>\n",
       "      <td>NaN</td>\n",
       "      <td>6.6</td>\n",
       "      <td>,E</td>\n",
       "      <td>...</td>\n",
       "      <td>83.0</td>\n",
       "      <td>,E</td>\n",
       "      <td>100.7</td>\n",
       "      <td>,,,E</td>\n",
       "      <td>15.79</td>\n",
       "      <td>,E</td>\n",
       "      <td>20.98</td>\n",
       "      <td>,,,E</td>\n",
       "      <td>10.60</td>\n",
       "      <td>,,,E</td>\n",
       "    </tr>\n",
       "    <tr>\n",
       "      <th>1</th>\n",
       "      <td>FRE00104048</td>\n",
       "      <td>2012-07</td>\n",
       "      <td>49.2094</td>\n",
       "      <td>4.1553</td>\n",
       "      <td>95.0</td>\n",
       "      <td>REIMS PRUNAY, FR</td>\n",
       "      <td>NaN</td>\n",
       "      <td>NaN</td>\n",
       "      <td>24.3</td>\n",
       "      <td>,E</td>\n",
       "      <td>...</td>\n",
       "      <td>46.7</td>\n",
       "      <td>,E</td>\n",
       "      <td>88.2</td>\n",
       "      <td>,,,E</td>\n",
       "      <td>17.61</td>\n",
       "      <td>,E</td>\n",
       "      <td>23.24</td>\n",
       "      <td>,,,E</td>\n",
       "      <td>11.98</td>\n",
       "      <td>,,,E</td>\n",
       "    </tr>\n",
       "    <tr>\n",
       "      <th>2</th>\n",
       "      <td>FRE00104048</td>\n",
       "      <td>2012-08</td>\n",
       "      <td>49.2094</td>\n",
       "      <td>4.1553</td>\n",
       "      <td>95.0</td>\n",
       "      <td>REIMS PRUNAY, FR</td>\n",
       "      <td>NaN</td>\n",
       "      <td>NaN</td>\n",
       "      <td>43.4</td>\n",
       "      <td>,E</td>\n",
       "      <td>...</td>\n",
       "      <td>18.2</td>\n",
       "      <td>,E</td>\n",
       "      <td>16.7</td>\n",
       "      <td>,,,E</td>\n",
       "      <td>19.15</td>\n",
       "      <td>,E</td>\n",
       "      <td>26.13</td>\n",
       "      <td>,,,E</td>\n",
       "      <td>12.16</td>\n",
       "      <td>,,,E</td>\n",
       "    </tr>\n",
       "    <tr>\n",
       "      <th>3</th>\n",
       "      <td>FRE00104048</td>\n",
       "      <td>2012-09</td>\n",
       "      <td>49.2094</td>\n",
       "      <td>4.1553</td>\n",
       "      <td>95.0</td>\n",
       "      <td>REIMS PRUNAY, FR</td>\n",
       "      <td>NaN</td>\n",
       "      <td>NaN</td>\n",
       "      <td>2.1</td>\n",
       "      <td>,E</td>\n",
       "      <td>...</td>\n",
       "      <td>126.1</td>\n",
       "      <td>,E</td>\n",
       "      <td>47.7</td>\n",
       "      <td>,,,E</td>\n",
       "      <td>14.20</td>\n",
       "      <td>,E</td>\n",
       "      <td>20.71</td>\n",
       "      <td>,,,E</td>\n",
       "      <td>7.70</td>\n",
       "      <td>,,,E</td>\n",
       "    </tr>\n",
       "    <tr>\n",
       "      <th>4</th>\n",
       "      <td>FRE00104048</td>\n",
       "      <td>2012-10</td>\n",
       "      <td>49.2094</td>\n",
       "      <td>4.1553</td>\n",
       "      <td>95.0</td>\n",
       "      <td>REIMS PRUNAY, FR</td>\n",
       "      <td>NaN</td>\n",
       "      <td>NaN</td>\n",
       "      <td>0.5</td>\n",
       "      <td>,E</td>\n",
       "      <td>...</td>\n",
       "      <td>215.1</td>\n",
       "      <td>,E</td>\n",
       "      <td>48.8</td>\n",
       "      <td>,,,E</td>\n",
       "      <td>11.41</td>\n",
       "      <td>,E</td>\n",
       "      <td>15.61</td>\n",
       "      <td>,,,E</td>\n",
       "      <td>7.21</td>\n",
       "      <td>,,,E</td>\n",
       "    </tr>\n",
       "  </tbody>\n",
       "</table>\n",
       "<p>5 rows × 44 columns</p>\n",
       "</div>"
      ],
      "text/plain": [
       "       STATION     DATE  LATITUDE  LONGITUDE  ELEVATION              NAME  \\\n",
       "0  FRE00104048  2012-06   49.2094     4.1553       95.0  REIMS PRUNAY, FR   \n",
       "1  FRE00104048  2012-07   49.2094     4.1553       95.0  REIMS PRUNAY, FR   \n",
       "2  FRE00104048  2012-08   49.2094     4.1553       95.0  REIMS PRUNAY, FR   \n",
       "3  FRE00104048  2012-09   49.2094     4.1553       95.0  REIMS PRUNAY, FR   \n",
       "4  FRE00104048  2012-10   49.2094     4.1553       95.0  REIMS PRUNAY, FR   \n",
       "\n",
       "   CDSD CDSD_ATTRIBUTES  CLDD CLDD_ATTRIBUTES  ...   HTDD HTDD_ATTRIBUTES  \\\n",
       "0   NaN             NaN   6.6              ,E  ...   83.0              ,E   \n",
       "1   NaN             NaN  24.3              ,E  ...   46.7              ,E   \n",
       "2   NaN             NaN  43.4              ,E  ...   18.2              ,E   \n",
       "3   NaN             NaN   2.1              ,E  ...  126.1              ,E   \n",
       "4   NaN             NaN   0.5              ,E  ...  215.1              ,E   \n",
       "\n",
       "    PRCP PRCP_ATTRIBUTES   TAVG TAVG_ATTRIBUTES   TMAX TMAX_ATTRIBUTES   TMIN  \\\n",
       "0  100.7            ,,,E  15.79              ,E  20.98            ,,,E  10.60   \n",
       "1   88.2            ,,,E  17.61              ,E  23.24            ,,,E  11.98   \n",
       "2   16.7            ,,,E  19.15              ,E  26.13            ,,,E  12.16   \n",
       "3   47.7            ,,,E  14.20              ,E  20.71            ,,,E   7.70   \n",
       "4   48.8            ,,,E  11.41              ,E  15.61            ,,,E   7.21   \n",
       "\n",
       "  TMIN_ATTRIBUTES  \n",
       "0            ,,,E  \n",
       "1            ,,,E  \n",
       "2            ,,,E  \n",
       "3            ,,,E  \n",
       "4            ,,,E  \n",
       "\n",
       "[5 rows x 44 columns]"
      ]
     },
     "execution_count": 14,
     "metadata": {},
     "output_type": "execute_result"
    }
   ],
   "source": [
    "df_rheims.head()"
   ]
  },
  {
   "cell_type": "code",
   "execution_count": 16,
   "id": "70d86516",
   "metadata": {},
   "outputs": [],
   "source": [
    "path_s = \"/Users/nico_marais/code/Liedjieboer/forward_farming/clean_data/clean_sheff_data.csv\"\n",
    "df_sheff = pd.read_csv(path_s)"
   ]
  },
  {
   "cell_type": "code",
   "execution_count": 18,
   "id": "0707e9b6",
   "metadata": {},
   "outputs": [
    {
     "name": "stdout",
     "output_type": "stream",
     "text": [
      "<class 'pandas.core.frame.DataFrame'>\n",
      "RangeIndex: 1126 entries, 0 to 1125\n",
      "Data columns (total 9 columns):\n",
      " #   Column         Non-Null Count  Dtype  \n",
      "---  ------         --------------  -----  \n",
      " 0   Unnamed: 0     1126 non-null   int64  \n",
      " 1   yyyy           1126 non-null   int64  \n",
      " 2   mm             1126 non-null   int64  \n",
      " 3   tmax(degC)     1126 non-null   float64\n",
      " 4   tmin(degC)     1126 non-null   float64\n",
      " 5   af(days)       1126 non-null   float64\n",
      " 6   rain(mm)       1126 non-null   float64\n",
      " 7   sun(hours)     1126 non-null   float64\n",
      " 8   avgtemp(degC)  1126 non-null   float64\n",
      "dtypes: float64(6), int64(3)\n",
      "memory usage: 79.3 KB\n"
     ]
    }
   ],
   "source": [
    "df_sheff.info()"
   ]
  },
  {
   "cell_type": "code",
   "execution_count": 32,
   "id": "cd99437a",
   "metadata": {},
   "outputs": [
    {
     "data": {
      "text/plain": [
       "6.410000000000001"
      ]
     },
     "execution_count": 32,
     "metadata": {},
     "output_type": "execute_result"
    }
   ],
   "source": [
    "spring_mins_s = df_sheff[(df_sheff['mm'] >= 4) & (df_sheff['mm']<= 5)]['tmin(degC)'].tail(20)\n",
    "spring_mins_s.mean()"
   ]
  },
  {
   "cell_type": "code",
   "execution_count": 31,
   "id": "a402d21a",
   "metadata": {},
   "outputs": [
    {
     "data": {
      "text/plain": [
       "[<matplotlib.lines.Line2D at 0x1242c0e80>]"
      ]
     },
     "execution_count": 31,
     "metadata": {},
     "output_type": "execute_result"
    },
    {
     "data": {
      "image/png": "[encoded data removed]",
      "text/plain": [
       "<Figure size 640x480 with 1 Axes>"
      ]
     },
     "metadata": {},
     "output_type": "display_data"
    }
   ],
   "source": [
    "plt.plot(spring_mins_s)\n",
    "# plt.plot(spring_mins_r)"
   ]
  },
  {
   "cell_type": "code",
   "execution_count": null,
   "id": "2229ac5f",
   "metadata": {},
   "outputs": [],
   "source": []
  }
 ],
 "metadata": {
  "kernelspec": {
   "display_name": "Python 3 (ipykernel)",
   "language": "python",
   "name": "python3"
  },
  "language_info": {
   "codemirror_mode": {
    "name": "ipython",
    "version": 3
   },
   "file_extension": ".py",
   "mimetype": "text/x-python",
   "name": "python",
   "nbconvert_exporter": "python",
   "pygments_lexer": "ipython3",
   "version": "3.10.6"
  },
  "toc": {
   "base_numbering": 1,
   "nav_menu": {},
   "number_sections": true,
   "sideBar": true,
   "skip_h1_title": false,
   "title_cell": "Table of Contents",
   "title_sidebar": "Contents",
   "toc_cell": false,
   "toc_position": {},
   "toc_section_display": true,
   "toc_window_display": false
  }
 },
 "nbformat": 4,
 "nbformat_minor": 5
}
