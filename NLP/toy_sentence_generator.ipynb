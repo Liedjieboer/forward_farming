{
 "cells": [
  {
   "cell_type": "code",
<<<<<<< HEAD
   "execution_count": null,
   "id": "2c98bc64",
=======
   "execution_count": 1,
   "id": "32b4bd18",
>>>>>>> f3e1fde4e0cf73bbe3a20c7c98cf08a5ad54671f
   "metadata": {},
   "outputs": [],
   "source": [
    "import pandas as pd"
   ]
  },
  {
   "cell_type": "code",
<<<<<<< HEAD
   "execution_count": null,
   "id": "5969d806",
   "metadata": {},
   "outputs": [],
   "source": [
    "dict_df = pd.DataFrame(columns = [‘lead’, ‘follow’, ‘freq’])\n",
=======
   "execution_count": 2,
   "id": "bc3cf897",
   "metadata": {},
   "outputs": [
    {
     "ename": "NameError",
     "evalue": "name 'words' is not defined",
     "output_type": "error",
     "traceback": [
      "\u001b[0;31m---------------------------------------------------------------------------\u001b[0m",
      "\u001b[0;31mNameError\u001b[0m                                 Traceback (most recent call last)",
      "Cell \u001b[0;32mIn [2], line 2\u001b[0m\n\u001b[1;32m      1\u001b[0m dict_df \u001b[38;5;241m=\u001b[39m pd\u001b[38;5;241m.\u001b[39mDataFrame(columns \u001b[38;5;241m=\u001b[39m [\u001b[38;5;124m'\u001b[39m\u001b[38;5;124mlead\u001b[39m\u001b[38;5;124m'\u001b[39m, \u001b[38;5;124m'\u001b[39m\u001b[38;5;124mfollow\u001b[39m\u001b[38;5;124m'\u001b[39m, \u001b[38;5;124m'\u001b[39m\u001b[38;5;124mfreq\u001b[39m\u001b[38;5;124m'\u001b[39m])\n\u001b[0;32m----> 2\u001b[0m dict_df[\u001b[38;5;124m'\u001b[39m\u001b[38;5;124mlead\u001b[39m\u001b[38;5;124m'\u001b[39m]\u001b[38;5;241m=\u001b[39m\u001b[43mwords\u001b[49m\n\u001b[1;32m      3\u001b[0m follow \u001b[38;5;241m=\u001b[39m words[\u001b[38;5;241m1\u001b[39m:]\n\u001b[1;32m      4\u001b[0m follow\u001b[38;5;241m.\u001b[39mappend(\u001b[38;5;124m'\u001b[39m\u001b[38;5;124mEndWord\u001b[39m\u001b[38;5;124m'\u001b[39m)\n",
      "\u001b[0;31mNameError\u001b[0m: name 'words' is not defined"
     ]
    }
   ],
   "source": [
    "dict_df = pd.DataFrame(columns = ['lead', 'follow', 'freq'])\n",
>>>>>>> f3e1fde4e0cf73bbe3a20c7c98cf08a5ad54671f
    "dict_df['lead']=words\n",
    "follow = words[1:]\n",
    "follow.append('EndWord')"
   ]
<<<<<<< HEAD
=======
  },
  {
   "cell_type": "code",
   "execution_count": null,
   "id": "ab89b358",
   "metadata": {},
   "outputs": [],
   "source": []
>>>>>>> f3e1fde4e0cf73bbe3a20c7c98cf08a5ad54671f
  }
 ],
 "metadata": {
  "kernelspec": {
   "display_name": "Python 3 (ipykernel)",
   "language": "python",
   "name": "python3"
  },
  "language_info": {
   "codemirror_mode": {
    "name": "ipython",
    "version": 3
   },
   "file_extension": ".py",
   "mimetype": "text/x-python",
   "name": "python",
   "nbconvert_exporter": "python",
   "pygments_lexer": "ipython3",
   "version": "3.10.6"
  },
  "toc": {
   "base_numbering": 1,
   "nav_menu": {},
   "number_sections": true,
   "sideBar": true,
   "skip_h1_title": false,
   "title_cell": "Table of Contents",
   "title_sidebar": "Contents",
   "toc_cell": false,
   "toc_position": {},
   "toc_section_display": true,
   "toc_window_display": false
  }
 },
 "nbformat": 4,
 "nbformat_minor": 5
}
