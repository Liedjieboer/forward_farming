{
<<<<<<< HEAD
 "cells": [
  {
   "cell_type": "code",
   "execution_count": null,
   "id": "2c98bc64",
   "metadata": {},
   "outputs": [],
   "source": [
    "import pandas as pd"
   ]
  },
  {
   "cell_type": "code",
   "execution_count": null,
   "id": "5969d806",
   "metadata": {},
   "outputs": [],
   "source": [
    "dict_df = pd.DataFrame(columns = [‘lead’, ‘follow’, ‘freq’])\n",
    "dict_df['lead']=words\n",
    "follow = words[1:]\n",
    "follow.append('EndWord')"
   ]
  }
 ],
 "metadata": {
  "kernelspec": {
   "display_name": "Python 3 (ipykernel)",
   "language": "python",
   "name": "python3"
  },
  "language_info": {
   "codemirror_mode": {
    "name": "ipython",
    "version": 3
   },
   "file_extension": ".py",
   "mimetype": "text/x-python",
   "name": "python",
   "nbconvert_exporter": "python",
   "pygments_lexer": "ipython3",
   "version": "3.10.6"
  },
  "toc": {
   "base_numbering": 1,
   "nav_menu": {},
   "number_sections": true,
   "sideBar": true,
   "skip_h1_title": false,
   "title_cell": "Table of Contents",
   "title_sidebar": "Contents",
   "toc_cell": false,
   "toc_position": {},
   "toc_section_display": true,
   "toc_window_display": false
  }
 },
=======
 "cells": [],
 "metadata": {},
>>>>>>> f3e1fde4e0cf73bbe3a20c7c98cf08a5ad54671f
 "nbformat": 4,
 "nbformat_minor": 5
}
