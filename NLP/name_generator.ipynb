{
 "cells": [
  {
   "cell_type": "code",
   "execution_count": 1,
   "id": "84c10ef6",
   "metadata": {},
   "outputs": [
    {
     "name": "stderr",
     "output_type": "stream",
     "text": [
      "2022-12-01 11:49:27.391821: I tensorflow/core/platform/cpu_feature_guard.cc:193] This TensorFlow binary is optimized with oneAPI Deep Neural Network Library (oneDNN) to use the following CPU instructions in performance-critical operations:  AVX2 FMA\n",
      "To enable them in other operations, rebuild TensorFlow with the appropriate compiler flags.\n"
     ]
    }
   ],
   "source": [
    "import pandas as pd\n",
    "import numpy as np\n",
    "import tensorflow as tf\n",
    "import time\n",
    "from tensorflow.keras.models import Sequential\n",
    "from tensorflow.keras.layers import Dense\n",
    "from tensorflow.keras.layers import LSTM\n",
    "from tensorflow.keras.optimizers import RMSprop\n",
    "import numpy as np\n",
    "import random\n",
    "import os"
   ]
  },
  {
   "cell_type": "code",
   "execution_count": 2,
   "id": "e1cee95a",
   "metadata": {},
   "outputs": [],
   "source": [
    "step_length = 1 # The step length we take to get our samples from our corpus\n",
    "epochs = 50 # Number of times we train on our full data\n",
    "batch_size = 32 # Data samples in each training step\n",
    "latent_dim = 64 # Size of our LSTM\n",
    "dropout_rate = 0.2 # Regularization with dropout\n",
    "model_path = os.path.realpath('./poke_gen_model.h5') # Location for the model\n",
    "load_model = False # Enable loading model from disk\n",
    "store_model = True # Store model to disk after training\n",
    "verbosity = 1 # Print result for each epoch\n",
    "gen_amount = 10 # How many"
   ]
  },
  {
   "cell_type": "code",
   "execution_count": 5,
   "id": "40558ac8",
   "metadata": {},
   "outputs": [
    {
     "ename": "NameError",
     "evalue": "name 'names' is not defined",
     "output_type": "error",
     "traceback": [
      "\u001b[0;31m---------------------------------------------------------------------------\u001b[0m",
      "\u001b[0;31mNameError\u001b[0m                                 Traceback (most recent call last)",
      "Cell \u001b[0;32mIn [5], line 2\u001b[0m\n\u001b[1;32m      1\u001b[0m df_vineyards \u001b[38;5;241m=\u001b[39m pd\u001b[38;5;241m.\u001b[39mread_csv(\u001b[38;5;124m'\u001b[39m\u001b[38;5;124m/Users/nico_marais/code/Liedjieboer/forward_farming/NLP/Text_data/vineyards_uk_11-11-20.csv\u001b[39m\u001b[38;5;124m'\u001b[39m)\n\u001b[0;32m----> 2\u001b[0m np\u001b[38;5;241m.\u001b[39msavetxt(\u001b[43mnames\u001b[49m\u001b[38;5;241m.\u001b[39mtxt, df_vineyards[\u001b[38;5;124m'\u001b[39m\u001b[38;5;124mVineyard Name\u001b[39m\u001b[38;5;124m'\u001b[39m])\n",
      "\u001b[0;31mNameError\u001b[0m: name 'names' is not defined"
     ]
    }
   ],
   "source": [
    "df_vineyards = pd.read_csv('/Users/nico_marais/code/Liedjieboer/forward_farming/NLP/Text_data/vineyards_uk_11-11-20.csv')\n",
    "np.savetxt(\"names.txt\", df_vineyards['Vineyard Name'])"
   ]
  },
  {
   "cell_type": "code",
   "execution_count": null,
   "id": "89c2b34d",
   "metadata": {},
   "outputs": [],
   "source": [
    "input_path = os.path.realpath('names.txt')\n",
    "input_names = []\n",
    "print('Reading names from file:')\n",
    "with open(input_path) as f:\n",
    "    for name in f:\n",
    "        name = name.rstrip()\n",
    "        if len(input_names) < 10:\n",
    "            print(name)\n",
    "        input_names.append(name)\n",
    "print('...')"
   ]
  }
 ],
 "metadata": {
  "kernelspec": {
   "display_name": "Python 3 (ipykernel)",
   "language": "python",
   "name": "python3"
  },
  "language_info": {
   "codemirror_mode": {
    "name": "ipython",
    "version": 3
   },
   "file_extension": ".py",
   "mimetype": "text/x-python",
   "name": "python",
   "nbconvert_exporter": "python",
   "pygments_lexer": "ipython3",
   "version": "3.10.6"
  },
  "toc": {
   "base_numbering": 1,
   "nav_menu": {},
   "number_sections": true,
   "sideBar": true,
   "skip_h1_title": false,
   "title_cell": "Table of Contents",
   "title_sidebar": "Contents",
   "toc_cell": false,
   "toc_position": {},
   "toc_section_display": true,
   "toc_window_display": false
  }
 },
 "nbformat": 4,
 "nbformat_minor": 5
}
