{
 "cells": [
  {
   "cell_type": "code",
   "execution_count": 50,
   "id": "c000d172",
   "metadata": {},
   "outputs": [],
   "source": [
    "#basics\n",
    "import math\n",
    "import pandas as pd\n",
    "import numpy as np\n",
    "import matplotlib.pyplot as plt\n",
    "import seaborn as sns\n",
    "import random as random\n",
    "from scipy import stats"
   ]
  },
  {
   "cell_type": "code",
   "execution_count": 74,
   "id": "857e499f",
   "metadata": {},
   "outputs": [
    {
     "data": {
      "text/html": [
       "<div>\n",
       "<style scoped>\n",
       "    .dataframe tbody tr th:only-of-type {\n",
       "        vertical-align: middle;\n",
       "    }\n",
       "\n",
       "    .dataframe tbody tr th {\n",
       "        vertical-align: top;\n",
       "    }\n",
       "\n",
       "    .dataframe thead th {\n",
       "        text-align: right;\n",
       "    }\n",
       "</style>\n",
       "<table border=\"1\" class=\"dataframe\">\n",
       "  <thead>\n",
       "    <tr style=\"text-align: right;\">\n",
       "      <th></th>\n",
       "      <th>yyyy</th>\n",
       "      <th>mm</th>\n",
       "      <th>tmax(degC)</th>\n",
       "      <th>tmin(degC)</th>\n",
       "      <th>af(days)</th>\n",
       "      <th>rain(mm)</th>\n",
       "      <th>sun(hours)</th>\n",
       "    </tr>\n",
       "  </thead>\n",
       "  <tbody>\n",
       "    <tr>\n",
       "      <th>1673</th>\n",
       "      <td>2022</td>\n",
       "      <td>6</td>\n",
       "      <td>20.4</td>\n",
       "      <td>10.8</td>\n",
       "      <td>0</td>\n",
       "      <td>55.0</td>\n",
       "      <td>31.7</td>\n",
       "    </tr>\n",
       "    <tr>\n",
       "      <th>1674</th>\n",
       "      <td>2022</td>\n",
       "      <td>7</td>\n",
       "      <td>23.3</td>\n",
       "      <td>14.5</td>\n",
       "      <td>0</td>\n",
       "      <td>23.0</td>\n",
       "      <td>190.6</td>\n",
       "    </tr>\n",
       "    <tr>\n",
       "      <th>1675</th>\n",
       "      <td>2022</td>\n",
       "      <td>8</td>\n",
       "      <td>23.9</td>\n",
       "      <td>13.6</td>\n",
       "      <td>0</td>\n",
       "      <td>56.4</td>\n",
       "      <td>233.4</td>\n",
       "    </tr>\n",
       "    <tr>\n",
       "      <th>1676</th>\n",
       "      <td>2022</td>\n",
       "      <td>9</td>\n",
       "      <td>18.4</td>\n",
       "      <td>11.1</td>\n",
       "      <td>0</td>\n",
       "      <td>50.0</td>\n",
       "      <td>122.2</td>\n",
       "    </tr>\n",
       "    <tr>\n",
       "      <th>1677</th>\n",
       "      <td>2022</td>\n",
       "      <td>10</td>\n",
       "      <td>15.6</td>\n",
       "      <td>9.6</td>\n",
       "      <td>0</td>\n",
       "      <td>124.0</td>\n",
       "      <td>109.9</td>\n",
       "    </tr>\n",
       "  </tbody>\n",
       "</table>\n",
       "</div>"
      ],
      "text/plain": [
       "      yyyy  mm tmax(degC) tmin(degC) af(days)  rain(mm) sun(hours)\n",
       "1673  2022   6       20.4       10.8        0      55.0       31.7\n",
       "1674  2022   7       23.3       14.5        0      23.0      190.6\n",
       "1675  2022   8       23.9       13.6        0      56.4      233.4\n",
       "1676  2022   9       18.4       11.1        0      50.0      122.2\n",
       "1677  2022  10       15.6        9.6        0     124.0      109.9"
      ]
     },
     "execution_count": 74,
     "metadata": {},
     "output_type": "execute_result"
    }
   ],
   "source": [
    "data = pd.read_csv('sheff_data.csv')\n",
    "data.tail()"
   ]
  },
  {
   "cell_type": "code",
   "execution_count": 75,
   "id": "895fc586",
   "metadata": {},
   "outputs": [],
   "source": [
    "new_data = data[data['yyyy'] >= 1929]"
   ]
  },
  {
   "cell_type": "code",
   "execution_count": 77,
   "id": "6f7782a6",
   "metadata": {},
   "outputs": [],
   "source": [
    "new_data = new_data.replace('---',np.nan)"
   ]
  },
  {
   "cell_type": "code",
   "execution_count": 79,
   "id": "cb718a9e",
   "metadata": {},
   "outputs": [],
   "source": [
    "new_data = new_data.fillna(method='ffill')"
   ]
  },
  {
   "cell_type": "code",
   "execution_count": 85,
   "id": "484187bf",
   "metadata": {},
   "outputs": [
    {
     "data": {
      "text/plain": [
       "yyyy            int64\n",
       "mm              int64\n",
       "tmax(degC)     object\n",
       "tmin(degC)     object\n",
       "af(days)       object\n",
       "rain(mm)      float64\n",
       "sun(hours)     object\n",
       "dtype: object"
      ]
     },
     "execution_count": 85,
     "metadata": {},
     "output_type": "execute_result"
    }
   ],
   "source": [
    "new_data.dtypes"
   ]
  },
  {
   "cell_type": "code",
   "execution_count": 86,
   "id": "3ea0e0d7",
   "metadata": {},
   "outputs": [],
   "source": [
    "new_data['tmax(degC)'] = new_data['tmax(degC)'].astype(float)\n",
    "new_data['tmin(degC)'] = new_data['tmin(degC)'].astype(float)\n",
    "new_data['af(days)'] = new_data['af(days)'].astype(float)\n",
    "new_data['sun(hours)'] = new_data['sun(hours)'].astype(float)"
   ]
  },
  {
   "cell_type": "code",
   "execution_count": 87,
   "id": "fd37cf8f",
   "metadata": {},
   "outputs": [],
   "source": [
    "new_data['avgtemp(degC)'] = new_data[['tmax(degC)','tmin(degC)']].mean(axis=1)"
   ]
  },
  {
   "cell_type": "code",
   "execution_count": 88,
   "id": "3fc9c09f",
   "metadata": {},
   "outputs": [
    {
     "data": {
      "text/html": [
       "<div>\n",
       "<style scoped>\n",
       "    .dataframe tbody tr th:only-of-type {\n",
       "        vertical-align: middle;\n",
       "    }\n",
       "\n",
       "    .dataframe tbody tr th {\n",
       "        vertical-align: top;\n",
       "    }\n",
       "\n",
       "    .dataframe thead th {\n",
       "        text-align: right;\n",
       "    }\n",
       "</style>\n",
       "<table border=\"1\" class=\"dataframe\">\n",
       "  <thead>\n",
       "    <tr style=\"text-align: right;\">\n",
       "      <th></th>\n",
       "      <th>yyyy</th>\n",
       "      <th>mm</th>\n",
       "      <th>tmax(degC)</th>\n",
       "      <th>tmin(degC)</th>\n",
       "      <th>af(days)</th>\n",
       "      <th>rain(mm)</th>\n",
       "      <th>sun(hours)</th>\n",
       "      <th>avgtemp(degC)</th>\n",
       "    </tr>\n",
       "  </thead>\n",
       "  <tbody>\n",
       "    <tr>\n",
       "      <th>552</th>\n",
       "      <td>1929</td>\n",
       "      <td>1</td>\n",
       "      <td>3.8</td>\n",
       "      <td>0.3</td>\n",
       "      <td>12.0</td>\n",
       "      <td>40.5</td>\n",
       "      <td>23.7</td>\n",
       "      <td>2.05</td>\n",
       "    </tr>\n",
       "    <tr>\n",
       "      <th>553</th>\n",
       "      <td>1929</td>\n",
       "      <td>2</td>\n",
       "      <td>2.6</td>\n",
       "      <td>-2.5</td>\n",
       "      <td>17.0</td>\n",
       "      <td>17.1</td>\n",
       "      <td>16.9</td>\n",
       "      <td>0.05</td>\n",
       "    </tr>\n",
       "    <tr>\n",
       "      <th>554</th>\n",
       "      <td>1929</td>\n",
       "      <td>3</td>\n",
       "      <td>12.1</td>\n",
       "      <td>2.4</td>\n",
       "      <td>6.0</td>\n",
       "      <td>3.3</td>\n",
       "      <td>16.9</td>\n",
       "      <td>7.25</td>\n",
       "    </tr>\n",
       "    <tr>\n",
       "      <th>555</th>\n",
       "      <td>1929</td>\n",
       "      <td>4</td>\n",
       "      <td>10.1</td>\n",
       "      <td>2.9</td>\n",
       "      <td>3.0</td>\n",
       "      <td>25.9</td>\n",
       "      <td>108.0</td>\n",
       "      <td>6.50</td>\n",
       "    </tr>\n",
       "    <tr>\n",
       "      <th>556</th>\n",
       "      <td>1929</td>\n",
       "      <td>5</td>\n",
       "      <td>15.9</td>\n",
       "      <td>6.7</td>\n",
       "      <td>0.0</td>\n",
       "      <td>52.1</td>\n",
       "      <td>188.3</td>\n",
       "      <td>11.30</td>\n",
       "    </tr>\n",
       "    <tr>\n",
       "      <th>...</th>\n",
       "      <td>...</td>\n",
       "      <td>...</td>\n",
       "      <td>...</td>\n",
       "      <td>...</td>\n",
       "      <td>...</td>\n",
       "      <td>...</td>\n",
       "      <td>...</td>\n",
       "      <td>...</td>\n",
       "    </tr>\n",
       "    <tr>\n",
       "      <th>1673</th>\n",
       "      <td>2022</td>\n",
       "      <td>6</td>\n",
       "      <td>20.4</td>\n",
       "      <td>10.8</td>\n",
       "      <td>0.0</td>\n",
       "      <td>55.0</td>\n",
       "      <td>31.7</td>\n",
       "      <td>15.60</td>\n",
       "    </tr>\n",
       "    <tr>\n",
       "      <th>1674</th>\n",
       "      <td>2022</td>\n",
       "      <td>7</td>\n",
       "      <td>23.3</td>\n",
       "      <td>14.5</td>\n",
       "      <td>0.0</td>\n",
       "      <td>23.0</td>\n",
       "      <td>190.6</td>\n",
       "      <td>18.90</td>\n",
       "    </tr>\n",
       "    <tr>\n",
       "      <th>1675</th>\n",
       "      <td>2022</td>\n",
       "      <td>8</td>\n",
       "      <td>23.9</td>\n",
       "      <td>13.6</td>\n",
       "      <td>0.0</td>\n",
       "      <td>56.4</td>\n",
       "      <td>233.4</td>\n",
       "      <td>18.75</td>\n",
       "    </tr>\n",
       "    <tr>\n",
       "      <th>1676</th>\n",
       "      <td>2022</td>\n",
       "      <td>9</td>\n",
       "      <td>18.4</td>\n",
       "      <td>11.1</td>\n",
       "      <td>0.0</td>\n",
       "      <td>50.0</td>\n",
       "      <td>122.2</td>\n",
       "      <td>14.75</td>\n",
       "    </tr>\n",
       "    <tr>\n",
       "      <th>1677</th>\n",
       "      <td>2022</td>\n",
       "      <td>10</td>\n",
       "      <td>15.6</td>\n",
       "      <td>9.6</td>\n",
       "      <td>0.0</td>\n",
       "      <td>124.0</td>\n",
       "      <td>109.9</td>\n",
       "      <td>12.60</td>\n",
       "    </tr>\n",
       "  </tbody>\n",
       "</table>\n",
       "<p>1126 rows × 8 columns</p>\n",
       "</div>"
      ],
      "text/plain": [
       "      yyyy  mm  tmax(degC)  tmin(degC)  af(days)  rain(mm)  sun(hours)  \\\n",
       "552   1929   1         3.8         0.3      12.0      40.5        23.7   \n",
       "553   1929   2         2.6        -2.5      17.0      17.1        16.9   \n",
       "554   1929   3        12.1         2.4       6.0       3.3        16.9   \n",
       "555   1929   4        10.1         2.9       3.0      25.9       108.0   \n",
       "556   1929   5        15.9         6.7       0.0      52.1       188.3   \n",
       "...    ...  ..         ...         ...       ...       ...         ...   \n",
       "1673  2022   6        20.4        10.8       0.0      55.0        31.7   \n",
       "1674  2022   7        23.3        14.5       0.0      23.0       190.6   \n",
       "1675  2022   8        23.9        13.6       0.0      56.4       233.4   \n",
       "1676  2022   9        18.4        11.1       0.0      50.0       122.2   \n",
       "1677  2022  10        15.6         9.6       0.0     124.0       109.9   \n",
       "\n",
       "      avgtemp(degC)  \n",
       "552            2.05  \n",
       "553            0.05  \n",
       "554            7.25  \n",
       "555            6.50  \n",
       "556           11.30  \n",
       "...             ...  \n",
       "1673          15.60  \n",
       "1674          18.90  \n",
       "1675          18.75  \n",
       "1676          14.75  \n",
       "1677          12.60  \n",
       "\n",
       "[1126 rows x 8 columns]"
      ]
     },
     "execution_count": 88,
     "metadata": {},
     "output_type": "execute_result"
    }
   ],
   "source": [
    "new_data"
   ]
  },
  {
   "cell_type": "code",
   "execution_count": 96,
   "id": "8f846911",
   "metadata": {},
   "outputs": [],
   "source": [
    "test_data = new_data[['yyyy','mm','avgtemp(degC)']]"
   ]
  },
  {
   "cell_type": "code",
   "execution_count": 97,
   "id": "27e4be3e",
   "metadata": {},
   "outputs": [],
   "source": [
    "summer_data = test_data[(test_data['mm'] == 6) | (test_data['mm'] == 7) | (test_data['mm'] == 8) | (test_data['mm'] == 9)]"
   ]
  },
  {
   "cell_type": "code",
   "execution_count": 98,
   "id": "c55a6327",
   "metadata": {},
   "outputs": [],
   "source": [
    "summer_data = summer_data[['yyyy','avgtemp(degC)']].groupby('yyyy').mean()"
   ]
  },
  {
   "cell_type": "code",
   "execution_count": 99,
   "id": "ef8b5a24",
   "metadata": {},
   "outputs": [
    {
     "data": {
      "text/plain": [
       "<AxesSubplot: xlabel='yyyy'>"
      ]
     },
     "execution_count": 99,
     "metadata": {},
     "output_type": "execute_result"
    },
    {
     "data": {
      "image/png": "[encoded data removed]",
      "text/plain": [
       "<Figure size 640x480 with 1 Axes>"
      ]
     },
     "metadata": {},
     "output_type": "display_data"
    }
   ],
   "source": [
    "sns.lineplot(summer_data)"
   ]
  }
 ],
 "metadata": {
  "kernelspec": {
   "display_name": "Python 3 (ipykernel)",
   "language": "python",
   "name": "python3"
  },
  "language_info": {
   "codemirror_mode": {
    "name": "ipython",
    "version": 3
   },
   "file_extension": ".py",
   "mimetype": "text/x-python",
   "name": "python",
   "nbconvert_exporter": "python",
   "pygments_lexer": "ipython3",
   "version": "3.10.6"
  },
  "toc": {
   "base_numbering": 1,
   "nav_menu": {},
   "number_sections": true,
   "sideBar": true,
   "skip_h1_title": false,
   "title_cell": "Table of Contents",
   "title_sidebar": "Contents",
   "toc_cell": false,
   "toc_position": {},
   "toc_section_display": true,
   "toc_window_display": false
  }
 },
 "nbformat": 4,
 "nbformat_minor": 5
}
