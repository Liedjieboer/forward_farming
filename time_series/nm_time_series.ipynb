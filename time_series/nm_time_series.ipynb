{
 "cells": [
  {
   "cell_type": "code",
   "execution_count": null,
   "id": "eaf109b6",
   "metadata": {},
   "outputs": [],
   "source": [
    "import pandas as pd\n",
    "from darts import TimeSeries\n",
    "import numpy as np\n",
    "import matplotlib.pyplot as plt"
   ]
  },
  {
   "cell_type": "code",
   "execution_count": null,
   "id": "fa08b82f",
   "metadata": {},
   "outputs": [],
   "source": [
    "# Read a pandas DataFrame\n",
    "path = \"/Users/nico_marais/code/Liedjieboer/forward_farming/clean_data/clean_sheff_data.csv\"\n",
    "df = pd.read_csv(path, delimiter=\",\")"
   ]
  },
  {
   "cell_type": "code",
   "execution_count": null,
   "id": "d157c89e",
   "metadata": {},
   "outputs": [],
   "source": [
    "df.head()"
   ]
  },
  {
   "cell_type": "code",
   "execution_count": null,
   "id": "ae9552d4",
   "metadata": {},
   "outputs": [],
   "source": [
    "# Create a TimeSeries, specifying the time and value columns\n",
    "series = TimeSeries.from_dataframe(df, \"Unnamed: 0\", \"rain(mm)\")\n",
    "\n",
    "# Set aside the last 36 months as a validation series\n",
    "train, val = series[:-36], series[-36:]"
   ]
  },
  {
   "cell_type": "code",
   "execution_count": null,
   "id": "a78e8e75",
   "metadata": {},
   "outputs": [],
   "source": [
    "from darts.models import ExponentialSmoothing\n",
    "\n",
    "model_exp_smooth = ExponentialSmoothing()\n",
    "model_exp_smooth.fit(train)\n",
    "prediction_exp_smooth = model_exp_smooth.predict(360, num_samples=1000)"
   ]
  },
  {
   "cell_type": "code",
   "execution_count": null,
   "id": "fecc4fd0",
   "metadata": {},
   "outputs": [],
   "source": [
    "import matplotlib.pyplot as plt\n",
    "\n",
    "series.plot()\n",
    "prediction_exp_smooth.plot(label=\"forecast\", low_quantile=0.25, high_quantile=0.75)\n",
    "plt.legend()"
   ]
  },
  {
   "cell_type": "code",
   "execution_count": null,
   "id": "c1fb9a03",
   "metadata": {},
   "outputs": [],
   "source": [
    "# Create a TimeSeries, specifying the time and value columns\n",
    "series = TimeSeries.from_dataframe(df, \"Unnamed: 0\", \"avgtemp(degC)\")\n",
    "\n",
    "# Set aside the last 36 months as a validation series\n",
    "train, val = series[:-36], series[-36:]\n",
    "\n",
    "from darts.models import NaiveSeasonal\n",
    "\n",
    "model_naive = NaiveSeasonal()\n",
    "model_naive.fit(train)\n",
    "prediction_naive = model_naive.predict(36)\n",
    "\n",
    "series.plot()\n",
    "prediction_naive.plot(label=\"forecast\", low_quantile=0.25, high_quantile=0.75)\n",
    "plt.legend()"
   ]
  },
  {
   "cell_type": "code",
   "execution_count": null,
   "id": "14ce54a0",
   "metadata": {},
   "outputs": [],
   "source": [
    "# Create a TimeSeries, specifying the time and value columns\n",
    "series = TimeSeries.from_dataframe(df, \"Unnamed: 0\", \"sun(hours)\")\n",
    "\n",
    "# Set aside the last 36 months as a validation series\n",
    "train, val = series[:-36], series[-36:]\n",
    "\n",
    "from darts.models import NaiveSeasonal\n",
    "\n",
    "naive_model = NaiveSeasonal(K=12)\n",
    "naive_model.fit(train)\n",
    "naive_forecast = naive_model.predict(36)\n",
    "\n",
    "series.plot(label=\"actual\")\n",
    "naive_forecast.plot(label=\"naive forecast (K=12)\")\n",
    "plt.xlim(left=1600)"
   ]
  },
  {
   "cell_type": "code",
   "execution_count": null,
   "id": "9c018ec8",
   "metadata": {
    "scrolled": false
   },
   "outputs": [],
   "source": [
    "\n",
    "# Create a TimeSeries, specifying the time and value columns\n",
    "series = TimeSeries.from_dataframe(df, \"Unnamed: 0\", \"sun(hours)\")\n",
    "\n",
    "# Set aside the last 36 months as a validation series\n",
    "train, val = series[:-36], series[-36:]\n",
    "\n",
    "from darts.models import TFTModel\n",
    "\n",
    "model_tft = TFTModel(\n",
    "    input_chunk_length=12*3,\n",
    "    output_chunk_length=12,\n",
    "    add_relative_index=True\n",
    ")\n",
    "model_tft.fit(train)\n",
    "prediction_tft = model_tft.predict(360, num_samples=1000)\n",
    "\n",
    "series.plot()\n",
    "prediction_tft.plot(label=\"forecast\", low_quantile=0.25, high_quantile=0.75)\n",
    "plt.legend()"
   ]
  },
  {
   "cell_type": "code",
   "execution_count": null,
   "id": "90b8c443",
   "metadata": {},
   "outputs": [],
   "source": [
    "df.head()"
   ]
  },
  {
   "cell_type": "code",
   "execution_count": null,
   "id": "b65035c8",
   "metadata": {},
   "outputs": [],
   "source": [
    "# Create a TimeSeries, specifying the time and value columns\n",
    "series = TimeSeries.from_dataframe(df, \"Unnamed: 0\", \"avgtemp(degC)\")\n",
    "series.plot()"
   ]
  },
  {
   "cell_type": "code",
   "execution_count": null,
   "id": "4c4bf01e",
   "metadata": {},
   "outputs": [],
   "source": [
    "seasonal_model = NaiveSeasonal(K=12)\n",
    "seasonal_model.fit(train)\n",
    "seasonal_forecast = seasonal_model.predict(36)\n",
    "\n",
    "series.plot(label=\"actual\")\n",
    "seasonal_forecast.plot(label=\"naive forecast (K=12)\")\n",
    "plt.xlim(left=1600)"
   ]
  },
  {
   "cell_type": "code",
   "execution_count": null,
   "id": "8ec2500c",
   "metadata": {},
   "outputs": [],
   "source": [
    "from darts.models import NaiveDrift\n",
    "\n",
    "drift_model = NaiveDrift()\n",
    "drift_model.fit(train)\n",
    "drift_forecast = drift_model.predict(36)\n",
    "\n",
    "combined_forecast = drift_forecast + seasonal_forecast - train.last_value()\n",
    "\n",
    "series.plot()\n",
    "combined_forecast.plot(label=\"combined\")\n",
    "drift_forecast.plot(label=\"drift\")\n",
    "plt.xlim(left=1600)"
   ]
  },
  {
   "cell_type": "code",
   "execution_count": null,
   "id": "65214613",
   "metadata": {},
   "outputs": [],
   "source": [
    "from darts.metrics import mape\n",
    "\n",
    "print(\n",
    "    \"Mean absolute percentage error for the combined naive drift + seasonal: {:.2f}%.\".format(\n",
    "        mape(series, combined_forecast)\n",
    "    )\n",
    ")"
   ]
  },
  {
   "cell_type": "code",
   "execution_count": null,
   "id": "06ef03f3",
   "metadata": {},
   "outputs": [],
   "source": [
    "from darts.models import ExponentialSmoothing, TBATS, AutoARIMA, Theta\n",
    "\n",
    "\n",
    "def eval_model(model):\n",
    "    model.fit(train)\n",
    "    forecast = model.predict(len(val))\n",
    "    print(\"model {} obtains MAPE: {:.2f}%\".format(model, mape(val, forecast)))\n",
    "\n",
    "\n",
    "eval_model(ExponentialSmoothing())\n"
   ]
  },
  {
   "cell_type": "code",
   "execution_count": null,
   "id": "6768cd91",
   "metadata": {},
   "outputs": [],
   "source": [
    "eval_model(TBATS())\n"
   ]
  },
  {
   "cell_type": "code",
   "execution_count": null,
   "id": "56cc09df",
   "metadata": {
    "scrolled": true
   },
   "outputs": [],
   "source": [
    "eval_model(AutoARIMA())\n"
   ]
  },
  {
   "cell_type": "code",
   "execution_count": null,
   "id": "f1e04547",
   "metadata": {},
   "outputs": [],
   "source": [
    "from darts.models import ARIMA\n",
    "eval_model(ARIMA())\n"
   ]
  },
  {
   "cell_type": "code",
   "execution_count": null,
   "id": "0b2c511d",
   "metadata": {},
   "outputs": [],
   "source": [
    "from darts.models import BATS\n",
    "eval_model(BATS())"
   ]
  },
  {
   "cell_type": "code",
   "execution_count": 1,
   "id": "fb72da2e",
   "metadata": {},
   "outputs": [
    {
     "name": "stderr",
     "output_type": "stream",
     "text": [
      "/Users/nico_marais/.pyenv/versions/3.10.6/envs/forward_farming/lib/python3.10/site-packages/tqdm/auto.py:22: TqdmWarning: IProgress not found. Please update jupyter and ipywidgets. See https://ipywidgets.readthedocs.io/en/stable/user_install.html\n",
      "  from .autonotebook import tqdm as notebook_tqdm\n"
     ]
    },
    {
     "ename": "NameError",
     "evalue": "name 'eval_model' is not defined",
     "output_type": "error",
     "traceback": [
      "\u001b[0;31m---------------------------------------------------------------------------\u001b[0m",
      "\u001b[0;31mNameError\u001b[0m                                 Traceback (most recent call last)",
      "Cell \u001b[0;32mIn [1], line 2\u001b[0m\n\u001b[1;32m      1\u001b[0m \u001b[38;5;28;01mfrom\u001b[39;00m \u001b[38;5;21;01mdarts\u001b[39;00m\u001b[38;5;21;01m.\u001b[39;00m\u001b[38;5;21;01mmodels\u001b[39;00m \u001b[38;5;28;01mimport\u001b[39;00m BlockRNNModel\n\u001b[0;32m----> 2\u001b[0m \u001b[43meval_model\u001b[49m(BlockRNNModel(input_chunk_length\u001b[38;5;241m=\u001b[39m\u001b[38;5;28mlen\u001b[39m(series), output_chunk_length\u001b[38;5;241m=\u001b[39m\u001b[38;5;241m36\u001b[39m))\n",
      "\u001b[0;31mNameError\u001b[0m: name 'eval_model' is not defined"
     ]
    }
   ],
   "source": [
    "from darts.models import BlockRNNModel\n",
    "eval_model(BlockRNNModel(input_chunk_length=len(series), output_chunk_length=36))"
   ]
  },
  {
   "cell_type": "code",
   "execution_count": null,
   "id": "9424b528",
   "metadata": {},
   "outputs": [],
   "source": [
    "eval_model(Theta())"
   ]
  },
  {
   "cell_type": "code",
   "execution_count": null,
   "id": "4880be04",
   "metadata": {
    "scrolled": true
   },
   "outputs": [],
   "source": [
    "from darts.models import CatBoostModel\n",
    "eval_model(CatBoostModel(lags=36))"
   ]
  },
  {
   "cell_type": "code",
   "execution_count": null,
   "id": "caa1ef6a",
   "metadata": {},
   "outputs": [],
   "source": [
    "from darts.models import Croston\n",
    "eval_model(Croston())"
   ]
  },
  {
   "cell_type": "code",
   "execution_count": null,
   "id": "84eac6dd",
   "metadata": {},
   "outputs": [],
   "source": [
    "from darts.models import ExponentialSmoothing\n",
    "eval_model(ExponentialSmoothing())"
   ]
  },
  {
   "cell_type": "code",
   "execution_count": null,
   "id": "0400da5c",
   "metadata": {},
   "outputs": [],
   "source": [
    "from darts.models import FFT\n",
    "eval_model(FFT())"
   ]
  },
  {
   "cell_type": "code",
   "execution_count": null,
   "id": "ce984437",
   "metadata": {},
   "outputs": [],
   "source": [
    "from darts.models import FourTheta\n",
    "eval_model(FourTheta())"
   ]
  },
  {
   "cell_type": "code",
   "execution_count": null,
   "id": "074c9ed1",
   "metadata": {},
   "outputs": [],
   "source": [
    "from darts.models import KalmanForecaster\n",
    "eval_model(KalmanForecaster())"
   ]
  },
  {
   "cell_type": "code",
   "execution_count": null,
   "id": "70aa666b",
   "metadata": {},
   "outputs": [],
   "source": [
    "# Create a TimeSeries, specifying the time and value columns\n",
    "series = TimeSeries.from_dataframe(df, \"Unnamed: 0\", \"avgtemp(degC)\")\n",
    "\n",
    "# Set aside the last 36 months as a validation series\n",
    "train, val = series[:-36], series[-36:]"
   ]
  },
  {
   "cell_type": "code",
   "execution_count": null,
   "id": "e6a71690",
   "metadata": {},
   "outputs": [],
   "source": [
    "# Search for the best theta parameter, by trying 50 different values\n",
    "thetas = 2 - np.linspace(-10, 10, 50)\n",
    "\n",
    "best_mape = float(\"inf\")\n",
    "best_theta = 0\n",
    "\n",
    "for theta in thetas:\n",
    "    model = Theta(theta)\n",
    "    model.fit(train)\n",
    "    pred_theta = model.predict(len(val))\n",
    "    res = mape(val, pred_theta)\n",
    "\n",
    "    if res < best_mape:\n",
    "        best_mape = res\n",
    "        best_theta = theta"
   ]
  },
  {
   "cell_type": "code",
   "execution_count": null,
   "id": "36db24c9",
   "metadata": {},
   "outputs": [],
   "source": [
    "best_theta_model = Theta(best_theta)\n",
    "best_theta_model.fit(train)\n",
    "pred_best_theta = best_theta_model.predict(len(val))\n",
    "\n",
    "print(\n",
    "    \"The MAPE is: {:.2f}, with theta = {}.\".format(\n",
    "        mape(val, pred_best_theta), best_theta\n",
    "    )\n",
    ")"
   ]
  },
  {
   "cell_type": "code",
   "execution_count": null,
   "id": "bbb50ea8",
   "metadata": {},
   "outputs": [],
   "source": [
    "train.plot(label=\"train\")\n",
    "val.plot(label=\"true\")\n",
    "pred_best_theta.plot(label=\"prediction\")\n",
    "plt.xlim(left=1600)"
   ]
  },
  {
   "cell_type": "code",
   "execution_count": null,
   "id": "f5dbb68c",
   "metadata": {},
   "outputs": [],
   "source": []
  }
 ],
 "metadata": {
  "kernelspec": {
   "display_name": "Python 3 (ipykernel)",
   "language": "python",
   "name": "python3"
  },
  "language_info": {
   "codemirror_mode": {
    "name": "ipython",
    "version": 3
   },
   "file_extension": ".py",
   "mimetype": "text/x-python",
   "name": "python",
   "nbconvert_exporter": "python",
   "pygments_lexer": "ipython3",
   "version": "3.10.6"
  },
  "toc": {
   "base_numbering": 1,
   "nav_menu": {},
   "number_sections": true,
   "sideBar": true,
   "skip_h1_title": false,
   "title_cell": "Table of Contents",
   "title_sidebar": "Contents",
   "toc_cell": false,
   "toc_position": {},
   "toc_section_display": true,
   "toc_window_display": false
  }
 },
 "nbformat": 4,
 "nbformat_minor": 5
}
